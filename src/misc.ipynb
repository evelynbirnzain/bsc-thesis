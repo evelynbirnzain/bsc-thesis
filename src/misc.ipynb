{
 "cells": [
  {
   "cell_type": "markdown",
   "id": "e8e6510f-ccfb-4338-a009-99e41aff9565",
   "metadata": {
    "tags": []
   },
   "source": [
    "# Setup"
   ]
  },
  {
   "cell_type": "code",
   "execution_count": null,
   "id": "af0b0edb-9ccc-4f0e-b2f5-b566dc04aa12",
   "metadata": {},
   "outputs": [],
   "source": [
    "#l = list(df_genes.columns.sort_values())\n",
    "#[i for i in l if i.startswith(\"GD\")]\n",
    "\n",
    "\n",
    "clinical = [\"L1CAM\"]  # GD2 not in dataset\n",
    "novel_targets = [\"GPC2\", \"CD276\", \"ALK\", \"NCAM1\"]\n",
    "\n",
    "promising = pd.DataFrame()\n",
    "promising[\"name\"] = clinical + novel_targets + other_targets\n",
    "promising[\"cat\"] = (\n",
    "    [\"clinical\"] * len(clinical)\n",
    "    + [\"novel\"] * len(novel_targets)\n",
    ")\n",
    "promising = promising.set_index(\"name\")\n",
    "promising"
   ]
  },
  {
   "cell_type": "code",
   "execution_count": null,
   "id": "34b3bcd1-bc97-4db6-9318-1c2c60633c10",
   "metadata": {},
   "outputs": [],
   "source": [
    "def df_from(selection):\n",
    "    data = df[selection]\n",
    "    data = pd.concat([df_classif, data], axis=1)\n",
    "    data[\"tpm_sum\"] = data.sum(axis=1, numeric_only=True)\n",
    "    return data\n",
    "\n",
    "def score_by_group_ind(selection, key=\"single\"):\n",
    "    df_scores = pd.DataFrame(data=None, index=h_tissues)\n",
    "    dfs = [score_by_group(gene, key).rename(gene) for gene in selection]\n",
    "    return pd.concat(dfs, axis=1)"
   ]
  },
  {
   "cell_type": "code",
   "execution_count": null,
   "id": "75304a91-bfa5-40ac-9616-05de571ab876",
   "metadata": {},
   "outputs": [],
   "source": [
    "sel = list(df_genes.columns)[0:5]\n",
    "scoring.score_by_group(sel).head()\n",
    "scoring.score(sel)\n",
    "plotting.boxplot(sel)"
   ]
  },
  {
   "cell_type": "markdown",
   "id": "f2b68870-a305-4d71-a5c1-7734a1192370",
   "metadata": {
    "jp-MarkdownHeadingCollapsed": true,
    "tags": []
   },
   "source": [
    "# Single gene analysis"
   ]
  },
  {
   "cell_type": "code",
   "execution_count": null,
   "id": "844f7f82-ab65-4d8b-8ace-04563524ad29",
   "metadata": {},
   "outputs": [],
   "source": [
    "%%time\n",
    "scores_avg = score_by_group_ind(df_genes.columns, 'average')\n",
    "scores_single = score_by_group_ind(df_genes.columns, 'single')\n",
    "scores_avg.head()\n",
    "scores_single.head()"
   ]
  },
  {
   "cell_type": "code",
   "execution_count": null,
   "id": "d3db4644-52bf-4bfe-b10a-ea37150fb45b",
   "metadata": {},
   "outputs": [],
   "source": [
    "promising[\"avg_mean\"] = scores_avg.mean()[promising.index]\n",
    "promising[\"avg_min\"] = scores_avg.min()[promising.index]\n",
    "promising[\"single_mean\"] = scores_single.mean()[promising.index]\n",
    "promising[\"single_min\"] = scores_single.min()[promising.index]\n",
    "promising\n",
    "sns.heatmap(promising.iloc[:, 1:], cmap=\"vlag\")"
   ]
  },
  {
   "cell_type": "code",
   "execution_count": null,
   "id": "049b2b32-8fdb-449c-97fa-b631f4cce921",
   "metadata": {},
   "outputs": [],
   "source": [
    "boxplot([\"L1CAM\"])"
   ]
  },
  {
   "cell_type": "code",
   "execution_count": null,
   "id": "273c1023-d637-4a09-8c89-75336d170a41",
   "metadata": {},
   "outputs": [],
   "source": [
    "avg_best = scores_avg.mean().sort_values(ascending=False).head(10)"
   ]
  },
  {
   "cell_type": "code",
   "execution_count": null,
   "id": "2abe2983-606d-410e-985e-71944d997cf6",
   "metadata": {},
   "outputs": [],
   "source": [
    "import numpy as np\n",
    "\n",
    "\n",
    "def select_genes(scores, quantile=0.25, percentage=0.8):\n",
    "    threshold = np.quantile(scores.values, quantile)\n",
    "    gs = scores.apply(lambda x: x > threshold).sum()\n",
    "    t = np.floor(percentage * len(tissues))\n",
    "    sel = gs[gs >= t].index\n",
    "    return sel"
   ]
  },
  {
   "cell_type": "code",
   "execution_count": null,
   "id": "280d4bf9-4e0f-4fe4-bad7-661f7369ae21",
   "metadata": {},
   "outputs": [],
   "source": [
    "sel = select_genes(scores_avg, quantile=0.90, percentage=0.99)\n",
    "set(promising.index) - set(sel)\n",
    "set(best_sel) - set(sel)\n",
    "len(sel)\n",
    "1 - (len(sel) / len(scores_avg.columns))"
   ]
  },
  {
   "cell_type": "code",
   "execution_count": null,
   "id": "06d87f2f-061e-425c-866f-cc3b91df3948",
   "metadata": {},
   "outputs": [],
   "source": [
    "import itertools\n",
    "from tqdm import tqdm\n",
    "\n",
    "sols = []\n",
    "for combination in tqdm(itertools.combinations(sel, 5)):\n",
    "    s = score_single(list(combination))\n",
    "    if s > 3.5:\n",
    "        sols.append((*combination, s))"
   ]
  },
  {
   "cell_type": "code",
   "execution_count": null,
   "id": "162f5bec-56d3-438d-aebc-cde8d48c13c5",
   "metadata": {},
   "outputs": [],
   "source": [
    "sorted(sols, key=lambda x: (x[-1]), reverse=True)"
   ]
  },
  {
   "cell_type": "code",
   "execution_count": null,
   "id": "df01b6d4-e014-490b-a593-0fb03600a722",
   "metadata": {},
   "outputs": [],
   "source": [
    "score_by_group_ind(sel).mean().sort_values(ascending=False).head(50)"
   ]
  },
  {
   "cell_type": "markdown",
   "id": "255dae58-610b-4e43-b26e-d6b53ad15b09",
   "metadata": {
    "tags": []
   },
   "source": [
    "# Collect results"
   ]
  },
  {
   "cell_type": "markdown",
   "id": "5c424623-0f51-404d-b0ff-eda0c6d3847a",
   "metadata": {
    "tags": []
   },
   "source": [
    "# Eval"
   ]
  },
  {
   "cell_type": "markdown",
   "id": "3829b4eb-cf9d-4f6d-a784-5ea4d7006a19",
   "metadata": {
    "tags": []
   },
   "source": [
    "## Load results"
   ]
  },
  {
   "cell_type": "code",
   "execution_count": null,
   "id": "0361e2e9-c630-4cae-8c6c-61aabd23d629",
   "metadata": {},
   "outputs": [],
   "source": [
    "sols = clean_and_eval([dfs[0]], 5)\n",
    "dfs[0].sort_values(\"single\", ascending=False).head(10)"
   ]
  },
  {
   "cell_type": "code",
   "execution_count": null,
   "id": "0b7bb639-98b6-46ba-8af5-9523504d34e3",
   "metadata": {},
   "outputs": [],
   "source": [
    "boxplot(\n",
    "    dfs[2][dfs[2].approach == \"ga\"]\n",
    "    .sort_values(\"single\", ascending=False)\n",
    "    .head(10)\n",
    "    .iloc[0, 0:20]\n",
    "    .values\n",
    ")"
   ]
  },
  {
   "cell_type": "code",
   "execution_count": null,
   "id": "afe2054a-d0c3-403e-97a4-e31c5ba3868b",
   "metadata": {},
   "outputs": [],
   "source": [
    "sns.set_style(\"ticks\")\n",
    "boxplot(\n",
    "    dfs[0].sort_values(\"average\", ascending=False).head(5).iloc[0, 0:5].values,\n",
    "    \"eval/pres/avg1.svg\",\n",
    ")\n",
    "boxplot(\n",
    "    dfs[0].sort_values(\"average\", ascending=False).head(5).iloc[1, 0:5].values,\n",
    "    \"eval/pres/avg2.svg\",\n",
    ")\n",
    "boxplot(\n",
    "    dfs[0].sort_values(\"single\", ascending=False).head(5).iloc[0, 0:5].values,\n",
    "    \"eval/pres/single1.svg\",\n",
    ")\n",
    "boxplot(\n",
    "    dfs[0].sort_values(\"single\", ascending=False).head(5).iloc[1, 0:5].values,\n",
    "    \"eval/pres/single2.svg\",\n",
    ")\n",
    "boxplot(\n",
    "    sols1.sort_values(\"average\", ascending=False).head(5).iloc[0, 0:5].values,\n",
    "    \"eval/pres/mix1.svg\",\n",
    ")\n",
    "boxplot(\n",
    "    sols1.sort_values(\"average\", ascending=False).head(5).iloc[1, 0:5].values,\n",
    "    \"eval/pres/mix2.svg\",\n",
    ")"
   ]
  },
  {
   "cell_type": "raw",
   "id": "a593ae26-50c0-4970-8f5a-e46761bfa63e",
   "metadata": {},
   "source": [
    "def _melt(df):\n",
    "    subset = df.sort_values(\"single\", ascending=False)\n",
    "    subset = subset[subset.single > 0]\n",
    "    subset = subset.drop(list(linkages) + [\"approach\"], axis=1)\n",
    "    subset = pd.melt(subset)\n",
    "    subset = subset.drop(\"variable\", axis=1)\n",
    "    return subset\n",
    "\n",
    "\n",
    "def melt(dfs):\n",
    "    tmp = []\n",
    "    for df in dfs:\n",
    "        tmp.append(_melt(df))\n",
    "    return pd.concat(tmp)\n",
    "\n",
    "\n",
    "ser = melt(dfs).value\n",
    "count = ser.value_counts()\n",
    "count.sample(5, weights=count)\n",
    "genes = np.array(count.index)\n",
    "len(genes)"
   ]
  },
  {
   "cell_type": "markdown",
   "id": "1622bb34-7796-4ff1-98da-d68253fca691",
   "metadata": {
    "tags": []
   },
   "source": [
    "## Melt solution dfs"
   ]
  },
  {
   "cell_type": "code",
   "execution_count": null,
   "id": "37a7e205-0ccd-4981-ac85-276514582492",
   "metadata": {},
   "outputs": [],
   "source": [
    "ag_cols = list(range(20))\n",
    "linkages = linkage_map.keys()\n",
    "\n",
    "\n",
    "def asdf(df, approach, n, diff, sort_by):\n",
    "    # df[\"x\"] = (df[\"single\"] + df[\"average\"]) / 2\n",
    "    subset = df[df.approach == approach].sort_values(sort_by).tail(n)\n",
    "    subset = subset.reset_index(drop=True).reset_index()\n",
    "    subset = pd.melt(subset, id_vars=list(linkages) + [\"approach\", \"index\"])\n",
    "    subset = subset.rename({\"index\": \"solution_id\"}, axis=1)\n",
    "    subset = subset[subset.variable != \"x\"]\n",
    "    size = subset.variable.astype(\"int\").max()\n",
    "    subset[\"sol_size\"] = size + 1\n",
    "    # subset = subset.drop(\"variable\", axis=1)\n",
    "    if diff:\n",
    "        subset = subset[subset[\"value\"].isin(diff)]\n",
    "    return subset\n",
    "\n",
    "\n",
    "def _melt(df, n=None, diff=None, sort_by=None):\n",
    "    n = len(df) if not n else n\n",
    "    ss1 = asdf(df, \"ga\", n, diff, sort_by)\n",
    "    ss2 = asdf(df, \"rf\", n, diff, sort_by)\n",
    "    ss2.loc[:, \"solution_id\"] = ss2.loc[:, \"solution_id\"] + n\n",
    "\n",
    "    return pd.concat([ss1, ss2], ignore_index=True)\n",
    "\n",
    "\n",
    "def melt(dfs, n=None, diff=None, sort_by=\"single\"):\n",
    "    tmp = []\n",
    "    for df in dfs:\n",
    "        tmp.append(_melt(df, n, diff, sort_by))\n",
    "    return pd.concat(tmp)\n",
    "\n",
    "\n",
    "def melt_uniq(dfs, n=None, diff=None, sort_by=\"single\"):\n",
    "    m = melt(dfs, n, diff, sort_by)\n",
    "    m.loc[m.sol_size == 10, \"solution_id\"] = m.loc[m.sol_size == 10, \"solution_id\"] + n\n",
    "    m.loc[m.sol_size == 20, \"solution_id\"] = (\n",
    "        m.loc[m.sol_size == 20, \"solution_id\"] + 2 * n\n",
    "    )\n",
    "    return m"
   ]
  },
  {
   "cell_type": "code",
   "execution_count": null,
   "id": "7d0fa7f3-3a97-40f3-986d-414eb92ad400",
   "metadata": {},
   "outputs": [],
   "source": [
    "sols1[\"approach\"] = \"ga\"\n",
    "m1 = sols1[sols1.single > 0]\n",
    "sols2[\"approach\"] = \"ga\"\n",
    "m2 = sols2[sols2.single > 0]\n",
    "m = melt_uniq([m1, m2], 10, sort_by=\"average\")\n",
    "m"
   ]
  },
  {
   "cell_type": "code",
   "execution_count": null,
   "id": "3ac9b258-ce44-43d9-8675-0e8838888c04",
   "metadata": {},
   "outputs": [],
   "source": [
    "eval_df_full = melt(dfs)\n",
    "n_sols = 10\n",
    "ds = dfs[0:2]\n",
    "eval_df_best_s = melt_uniq(ds, n_sols, sort_by=\"single\")\n",
    "eval_df_best_a = melt_uniq(ds, n_sols, sort_by=\"average\")\n",
    "eval_df_best_s[\"average\"].mean()\n",
    "eval_df_best_a[\"average\"].mean()\n",
    "eval_df_best_s[\"single\"].mean()\n",
    "eval_df_best_a[\"single\"].mean()"
   ]
  },
  {
   "cell_type": "code",
   "execution_count": null,
   "id": "98084558-7d08-4def-ab99-da82cc756e27",
   "metadata": {},
   "outputs": [],
   "source": [
    "for df in dfs:\n",
    "    df.sort_values(\"single\").tail(10)"
   ]
  },
  {
   "cell_type": "markdown",
   "id": "a62751f9-84e0-4f74-aa9f-d76eef5f262e",
   "metadata": {
    "tags": []
   },
   "source": [
    "## Individual solutions"
   ]
  },
  {
   "cell_type": "code",
   "execution_count": null,
   "id": "6774214f-60f0-425a-8ade-ba62e3c86adb",
   "metadata": {},
   "outputs": [],
   "source": [
    "def pivot(data, approach=None):\n",
    "    if approach:\n",
    "        piv = (\n",
    "            data[data.approach == approach]\n",
    "            .groupby([\"sol_size\", \"solution_id\", \"value\"])\n",
    "            .size()\n",
    "            .reset_index()\n",
    "            .pivot(columns=[\"sol_size\", \"solution_id\"], index=\"value\", values=0)\n",
    "        )\n",
    "    else:\n",
    "        piv = (\n",
    "            data.groupby([\"approach\", \"sol_size\", \"solution_id\", \"value\"])\n",
    "            .size()\n",
    "            .reset_index()\n",
    "            .pivot(\n",
    "                columns=[\"sol_size\", \"approach\", \"solution_id\"], index=\"value\", values=0\n",
    "            )\n",
    "        )\n",
    "    s = piv.sum(axis=1)\n",
    "    s = s.sort_values(ascending=False)\n",
    "    piv = piv.reindex(s.index)\n",
    "    piv = piv.fillna(0)\n",
    "    piv = piv.head(15)\n",
    "    return piv\n",
    "\n",
    "\n",
    "# sns.heatmap(piv)\n",
    "# df_plot.to_csv(\"piv_new.csv\")\n",
    "best_sel = piv.index\n",
    "# piv1 = pivot(eval_df_best_s, \"ga\")\n",
    "# piv1\n",
    "pivot(eval_df_best_s, \"ga\").to_csv(\"piv_s_ga.csv\")\n",
    "pivot(eval_df_best_s, \"rf\").to_csv(\"piv_s_rf.csv\")\n",
    "pivot(eval_df_best_a, \"ga\").to_csv(\"piv_a_ga.csv\")\n",
    "pivot(eval_df_best_a, \"rf\").to_csv(\"piv_a_rf.csv\")\n",
    "pivot(m, \"ga\").to_csv(\"piv_a_sga.csv\")\n",
    "# piv1.to_csv(\"piv_ga.csv\")\n",
    "# piv2.to_csv(\"piv_rf.csv\")\n",
    "# piv1\n",
    "# promising.loc[set(promising.index) - set(piv1.index)]\n",
    "# promising.loc[set(promising.index).intersection(set(piv1.index))]\n",
    "# piv2\n",
    "# pivot(eval_df_best_s)\n",
    "# pivot(eval_df_best_a)"
   ]
  },
  {
   "cell_type": "code",
   "execution_count": null,
   "id": "ec3e1d56-f71d-4974-ac15-ff98a3a5e119",
   "metadata": {},
   "outputs": [],
   "source": [
    "import random\n",
    "\n",
    "s = len(eval_df_best[\"value\"].unique())\n",
    "a = sns.color_palette(\"Paired\")\n",
    "# col = a + sns.color_palette(\"hls\", s - len(a))\n",
    "col = sns.color_palette(\"Spectral\", s)\n",
    "col = sns.color_palette(\"Set1\") + sns.color_palette(\"Set2\")\n",
    "\n",
    "assert len(col) >= s\n",
    "random.shuffle(col)\n",
    "\n",
    "ax = df_plot.plot(kind=\"barh\", stacked=True, figsize=(10, 10), color=col, legend=False)\n",
    "# plt.axis(\"off\")\n",
    "\n",
    "\n",
    "def annotateBars(row, ax=ax):\n",
    "    # print(row)\n",
    "    curr_value = 0\n",
    "    for col in row.index:\n",
    "        value = row[col]\n",
    "        if str(value) != \"nan\":\n",
    "            _ = ax.text(\n",
    "                curr_value + (value) / 2,\n",
    "                row.name,\n",
    "                str(col),\n",
    "                ha=\"center\",\n",
    "                va=\"center\",\n",
    "            )\n",
    "            curr_value += value\n",
    "\n",
    "\n",
    "_ = df_plot.apply(annotateBars, ax=ax, axis=1)"
   ]
  },
  {
   "cell_type": "code",
   "execution_count": null,
   "id": "7f0e6bad-5ad7-49b3-8090-c10c33084ed6",
   "metadata": {},
   "outputs": [],
   "source": []
  },
  {
   "cell_type": "code",
   "execution_count": null,
   "id": "8e1fa89b-1af0-4dd3-83f9-be91a14ad64f",
   "metadata": {},
   "outputs": [],
   "source": [
    "import numpy as np\n",
    "\n",
    "# fil = eval_df_best[eval_df_best.sol_size < 10]\n",
    "# fil = dfs[0].iloc[:30]\n",
    "fil = melt_uniq(dfs[0:3], 10)\n",
    "piv = pd.pivot_table(\n",
    "    fil,\n",
    "    values=\"single\",\n",
    "    index=[\"sol_size\", \"solution_id\"],\n",
    "    columns=[\"value\"],\n",
    "    aggfunc=np.any,\n",
    ")\n",
    "piv = piv.fillna(False)\n",
    "s = piv.sum()\n",
    "piv = piv[s.sort_values(ascending=False).index]\n",
    "piv = piv[piv.columns[piv.sum() > 4]]\n",
    "piv = piv.replace({True: 1, False: 0})\n",
    "piv\n",
    "sns.heatmap(piv.corr(), cmap=\"vlag\")\n",
    "# piv.to_csv(\"piv.csv\")\n",
    "# sns.heatmap(piv)\n",
    "piv.corr().to_csv(\"corr2.csv\")"
   ]
  },
  {
   "cell_type": "markdown",
   "id": "1e1784f0-23b1-44af-bdd2-bb034092f18f",
   "metadata": {},
   "source": [
    "## Solution quality distribution"
   ]
  },
  {
   "cell_type": "markdown",
   "id": "3b9c96bb-c97a-4a3b-8a74-50929df851f1",
   "metadata": {},
   "source": [
    "### Generate random solutions"
   ]
  },
  {
   "cell_type": "code",
   "execution_count": null,
   "id": "1860d080-1ce4-49af-827e-de73ec713eb3",
   "metadata": {},
   "outputs": [],
   "source": [
    "dfs_rand = []\n",
    "for n in [5, 10, 20]:\n",
    "    rows = []\n",
    "    for i in range(1000):\n",
    "        rows.append(list(df_genes.sample(n, axis=1, random_state=i).columns))\n",
    "\n",
    "    df_rand = pd.DataFrame.from_records(rows, columns=[str(x) for x in range(n)])\n",
    "    dfs_rand.append(clean_and_eval([df_rand], n))\n",
    "\n",
    "dfs_rand[0]"
   ]
  },
  {
   "cell_type": "code",
   "execution_count": null,
   "id": "3568826f-732b-462c-b896-318c75646019",
   "metadata": {},
   "outputs": [],
   "source": [
    "for df in dfs_rand:\n",
    "    df[\"approach\"] = \"random\"\n",
    "\n",
    "eval_df_rand = melt(dfs_rand)"
   ]
  },
  {
   "cell_type": "code",
   "execution_count": null,
   "id": "866ed55e-0c35-47a4-919f-3d6e9b122015",
   "metadata": {},
   "outputs": [],
   "source": [
    "data_eval_full_with_rand = pd.concat([eval_df_full, eval_df_rand]).reset_index()\n",
    "data_eval_full_with_rand"
   ]
  },
  {
   "cell_type": "code",
   "execution_count": null,
   "id": "12a971f6-fda4-4929-aa84-ec050316c323",
   "metadata": {},
   "outputs": [],
   "source": [
    "from collections import Counter"
   ]
  },
  {
   "cell_type": "code",
   "execution_count": null,
   "id": "6adb9917-227d-49ff-9da8-abc5a034d84d",
   "metadata": {},
   "outputs": [],
   "source": [
    "dfs[0].iloc[:20, 0:5].reset_index().pivot_table(\n",
    "    index=\"index\", columns=[\"0\", \"1\", \"2\", \"3\", \"4\"], values=[\"index\"], aggfunc=np.sum\n",
    ")"
   ]
  },
  {
   "cell_type": "code",
   "execution_count": null,
   "id": "27e132c3-9d7b-4326-909d-a33f652b93d6",
   "metadata": {},
   "outputs": [],
   "source": [
    "topk = 40\n",
    "ag_names = dfs[0].iloc[:topk, 0:5].to_numpy().reshape(-1)\n",
    "ag_indices = {ag[0]: i for i, ag in enumerate(Counter(ag_names).most_common())}\n",
    "count_M = np.zeros((len(ag_indices), len(ag_indices)), dtype=int)"
   ]
  },
  {
   "cell_type": "code",
   "execution_count": null,
   "id": "0d4161f3-3236-4ea9-8833-d304c95aa3b9",
   "metadata": {},
   "outputs": [],
   "source": [
    "for row in dfs[0].iloc[:topk, 0:5].to_numpy():\n",
    "    for i in range(len(row)):\n",
    "        for j in range(i + 1, len(row)):\n",
    "            count_M[ag_indices[row[i]], ag_indices[row[j]]] += 1\n",
    "            count_M[ag_indices[row[j]], ag_indices[row[i]]] += 1"
   ]
  },
  {
   "cell_type": "code",
   "execution_count": null,
   "id": "fd485152-a45f-4bb6-87b8-e2e19c0c7fe5",
   "metadata": {},
   "outputs": [],
   "source": [
    "count_M.shape"
   ]
  },
  {
   "cell_type": "code",
   "execution_count": null,
   "id": "6b5d17f7-e1ef-49b6-a3ff-2c209a712427",
   "metadata": {},
   "outputs": [],
   "source": [
    "plt.imshow(np.log(count_M / count_M.max()))"
   ]
  },
  {
   "cell_type": "code",
   "execution_count": null,
   "id": "a2d3d664-c567-40a6-bfaa-4f27b34d6226",
   "metadata": {},
   "outputs": [],
   "source": [
    "mask = np.triu(np.ones_like(count_M, dtype=bool))\n",
    "\n",
    "plt.figure(figsize=(6, 6), dpi=140)\n",
    "sns.heatmap(\n",
    "    count_M,\n",
    "    mask=mask | (count_M == 0),\n",
    "    vmin=0,\n",
    "    cmap=sns.color_palette(\"Blues\", as_cmap=True),\n",
    "    center=0,\n",
    "    square=True,\n",
    "    linewidths=0.1,\n",
    "    cbar_kws={\"shrink\": 0.5},\n",
    ")"
   ]
  },
  {
   "cell_type": "markdown",
   "id": "b380eae2-58a1-4bc8-b1b1-ff67a3812ca5",
   "metadata": {},
   "source": [
    "### Plots"
   ]
  },
  {
   "cell_type": "code",
   "execution_count": null,
   "id": "009649d3-ff7f-4927-9c97-43acf54aab06",
   "metadata": {},
   "outputs": [],
   "source": [
    "x = data_eval_full_with_rand.drop_duplicates(subset=[\"approach\", \"sol_size\", \"index\"])\n",
    "x.groupby([\"approach\", \"sol_size\"]).size()"
   ]
  },
  {
   "cell_type": "code",
   "execution_count": null,
   "id": "8908c44a-12fe-4714-af5e-317f72b225aa",
   "metadata": {},
   "outputs": [],
   "source": [
    "import numpy as np\n",
    "\n",
    "size = 850\n",
    "replace = False\n",
    "fn = lambda obj: obj.loc[np.random.choice(obj.index, size, replace), :]\n",
    "x2 = x.groupby([\"approach\", \"sol_size\"], as_index=False).apply(fn)\n",
    "x2.groupby([\"approach\", \"sol_size\"]).size()"
   ]
  },
  {
   "cell_type": "code",
   "execution_count": null,
   "id": "33f0fe40-d356-4c12-8019-5488dfc0f086",
   "metadata": {},
   "outputs": [],
   "source": [
    "fn = lambda x: list(map(lambda y: y[-1], x))\n",
    "x4 = x.iloc[fn(x.groupby([\"approach\", \"sol_size\"])[\"single\"].nlargest(850).index)]\n",
    "x4"
   ]
  },
  {
   "cell_type": "code",
   "execution_count": null,
   "id": "e4f0b6cf-dc43-4eca-94be-afc1a68b164a",
   "metadata": {},
   "outputs": [],
   "source": [
    "name_dict = {\n",
    "    \"single\": \"Single linkage distance\",\n",
    "    \"average\": \"Average linkage distance\",\n",
    "    \"sol_size\": \"Number of selected antigens\",\n",
    "    \"approach\": \"Approach\",\n",
    "}\n",
    "x3 = x2.rename(name_dict, axis=1)\n",
    "x3[\"Approach\"] = x3[\"Approach\"].map(\n",
    "    {\"ga\": \"Genetic algorithm\", \"rf\": \"Random forest\", \"random\": \"Random\"}\n",
    ")\n",
    "x3"
   ]
  },
  {
   "cell_type": "code",
   "execution_count": null,
   "id": "9880fe30-0146-4f9c-8bc6-a93bf5e34383",
   "metadata": {},
   "outputs": [],
   "source": [
    "sns.set_style(\"whitegrid\")\n",
    "for linkage in [\"single\", \"average\"]:\n",
    "    plot = sns.displot(\n",
    "        data=x3,\n",
    "        x=name_dict[linkage],\n",
    "        col=name_dict[\"sol_size\"],\n",
    "        hue=name_dict[\"approach\"],\n",
    "        kind=\"kde\",\n",
    "        height=3,\n",
    "    )\n",
    "    plot.fig.savefig(f\"dist_{linkage}.svg\", format=\"svg\", bbox_inches=\"tight\")"
   ]
  },
  {
   "cell_type": "code",
   "execution_count": null,
   "id": "ac90116a-679d-411b-8dfc-b6e6975b1d25",
   "metadata": {},
   "outputs": [],
   "source": [
    "plot = sns.scatterplot(\n",
    "    data=x3,\n",
    "    x=name_dict[\"single\"],\n",
    "    y=name_dict[\"average\"],\n",
    "    hue=name_dict[\"approach\"],\n",
    "    s=5,\n",
    ")\n",
    "plot.get_figure().savefig(\"single_avg_corr.svg\", format=\"svg\", bbox_inches=\"tight\")"
   ]
  },
  {
   "cell_type": "code",
   "execution_count": null,
   "id": "2bcf6d25-daf6-401f-8a68-89963bbdffa8",
   "metadata": {},
   "outputs": [],
   "source": []
  },
  {
   "cell_type": "code",
   "execution_count": null,
   "id": "259960d7-ef7c-4bda-844e-3eca5e3e5c61",
   "metadata": {},
   "outputs": [],
   "source": [
    "sns.heatmap(x4.corr())"
   ]
  },
  {
   "cell_type": "code",
   "execution_count": null,
   "id": "262ceaf0-1d74-4bf3-b856-08f9aa9172cb",
   "metadata": {},
   "outputs": [],
   "source": [
    "p = sns.relplot(\n",
    "    data=x3,\n",
    "    x=name_dict[\"single\"],\n",
    "    y=name_dict[\"average\"],\n",
    "    col=name_dict[\"sol_size\"],\n",
    "    hue=name_dict[\"approach\"],\n",
    "    height=4,\n",
    "    aspect=1,\n",
    "    s=5,\n",
    "    # facet_kws={\"sharey\": False, \"sharex\": False},\n",
    ")\n",
    "\n",
    "p.get_figure().savefig('single_avg_corr.svg', format=\"svg\", bbox_inches=\"tight\")"
   ]
  },
  {
   "cell_type": "code",
   "execution_count": null,
   "id": "e9e45c03-b57b-4829-a7d7-8978cd0214bf",
   "metadata": {},
   "outputs": [],
   "source": [
    "# x4 = x3[x3[name_dict[\"single\"]] > 0]\n",
    "p = sns.relplot(\n",
    "    data=x4[(x4.approach == \"ga\") & (x4.sol_size == 5)],\n",
    "    x=\"single\",\n",
    "    y=\"single_rel\",\n",
    "    col=\"sol_size\",\n",
    "    hue=\"approach\",\n",
    "    height=4,\n",
    "    aspect=1,\n",
    "    s=5,\n",
    "    # facet_kws={\"sharey\": False, \"sharex\": False},\n",
    ")\n",
    "\n",
    "x4.groupby([\"approach\", \"sol_size\"]).corr()[\"single\"].loc[:, :, \"single_rel\"]"
   ]
  },
  {
   "cell_type": "markdown",
   "id": "503b73c7-7042-454a-a974-c7ddc9bc7927",
   "metadata": {},
   "source": [
    "## idk what this is"
   ]
  },
  {
   "cell_type": "code",
   "execution_count": null,
   "id": "3dc682c5-a4e3-44de-99e5-d324bbde83ec",
   "metadata": {},
   "outputs": [],
   "source": [
    "def hist(df, diff=None):\n",
    "    subset = _melt(df, diff)\n",
    "    sns.set_style(\"darkgrid\")\n",
    "    plot = sns.histplot(x=subset[\"value\"])\n",
    "    _ = plt.setp(plot.get_xticklabels(), rotation=90)\n",
    "    plot.get_figure().set_size_inches(15, 5)"
   ]
  },
  {
   "cell_type": "code",
   "execution_count": null,
   "id": "ca881879-25e6-4507-9bcf-888529811f2c",
   "metadata": {},
   "outputs": [],
   "source": [
    "eval_df = melt(dfs, 50)\n",
    "ags = eval_df[\"value\"].unique()\n",
    "len(ags)\n",
    "eval_df.groupby([\"approach\", \"sol_size\"])[\"index\"].max()\n",
    "eval_df.drop_duplicates([\"approach\", \"sol_size\", \"value\"]).groupby(\n",
    "    [\"approach\", \"sol_size\"]\n",
    ").size()"
   ]
  },
  {
   "cell_type": "code",
   "execution_count": null,
   "id": "9a76d8f9-188f-49f9-bc89-2e9974feefab",
   "metadata": {},
   "outputs": [],
   "source": [
    "vc = eval_df.groupby([\"approach\", \"sol_size\"])[\"value\"].value_counts()\n",
    "pd.DataFrame(vc).rename({\"value\": \"count\"}, axis=1).reset_index().rename(\n",
    "    {\"value\": \"antigen\"}, axis=1\n",
    ").groupby([\"approach\", \"sol_size\"]).apply(\n",
    "    lambda x: x.nlargest(10, \"count\")\n",
    ").reset_index(\n",
    "    drop=True\n",
    ")"
   ]
  },
  {
   "cell_type": "raw",
   "id": "68fd79e2-f32c-4940-b741-dd0d83155f09",
   "metadata": {},
   "source": [
    "from tqdm import tqdm\n",
    "\n",
    "colnames = [\"p\", \"q\", \"num sa\", \"num diff\", \"p fp 5\", \"p fp 10\", \"p fp 20\", \"dropped\"]\n",
    "x = pd.DataFrame(columns=colnames)\n",
    "x\n",
    "for q in tqdm(np.arange(0.05, 1, 0.05)):\n",
    "    for p in np.arange(0.10, 1, 0.1):\n",
    "        sel = select_genes(q, p)\n",
    "        diff = set(ags) - set(sel)\n",
    "        res = [p, q, len(sel), len(diff)]\n",
    "        cnt_drop = 0\n",
    "        for d in dfs_best100:\n",
    "            d = melt(d)\n",
    "            a = d[~d[\"value\"].isin(diff)][\"single\"].quantile(0.75)\n",
    "            b = (d[d[\"value\"].isin(diff)][\"single\"] > a).mean()\n",
    "            cnt_drop = (\n",
    "                cnt_drop + d[d[\"value\"].isin(diff)][\"index\"].drop_duplicates().size\n",
    "            )\n",
    "            print(cnt_drop, end=\" \")\n",
    "            res = res + [b]\n",
    "\n",
    "        res = res + [cnt_drop]\n",
    "        res = dict(zip(colnames, res))\n",
    "        x = x.append(res, ignore_index=True)"
   ]
  },
  {
   "cell_type": "code",
   "execution_count": null,
   "id": "8815c108-c0eb-47bd-9ede-30402ee589af",
   "metadata": {},
   "outputs": [],
   "source": [
    "for i in range(3):\n",
    "    melt(dfs_best100[i])[\"index\"].max()"
   ]
  },
  {
   "cell_type": "code",
   "execution_count": null,
   "id": "b7b92da9-4e10-493a-9363-a621fcc1f6e4",
   "metadata": {},
   "outputs": [],
   "source": [
    "a = pd.read_csv(\"sga_eval.csv\")\n",
    "a = a.drop(\"Unnamed: 0\", axis=1)\n",
    "a = a.fillna(0)\n",
    "a = a.melt(id_vars=[\"p\", \"q\"], value_vars=[\"num sa\", \"num diff\", \"dropped\"])\n",
    "sns.lineplot(data=a, x=\"p\", y=\"value\", hue=\"variable\")"
   ]
  },
  {
   "cell_type": "code",
   "execution_count": null,
   "id": "c21ad5e4-218e-4d50-b2f7-ff733264f86e",
   "metadata": {},
   "outputs": [],
   "source": [
    "x[\"perc dropped\"] = x[\"dropped\"] / 291\n",
    "x[\"perc selected\"] = x[\"num sa\"] / 3169"
   ]
  },
  {
   "cell_type": "code",
   "execution_count": null,
   "id": "f56cbcfc-dcb9-4770-92c9-83e35f48cf6b",
   "metadata": {},
   "outputs": [],
   "source": [
    "x"
   ]
  },
  {
   "cell_type": "code",
   "execution_count": null,
   "id": "be0cafa3-ce6a-43ab-baf6-fd07df10aaa9",
   "metadata": {},
   "outputs": [],
   "source": [
    "a = x\n",
    "a = a.fillna(0)\n",
    "a = a.melt(id_vars=[\"p\", \"q\"], value_vars=[\"perc selected\", \"perc dropped\"])\n",
    "sns.lineplot(data=a, x=\"p\", y=\"value\", hue=\"variable\")"
   ]
  },
  {
   "cell_type": "code",
   "execution_count": null,
   "id": "88d20ec7-05aa-4f00-b26c-12a7b173cd85",
   "metadata": {},
   "outputs": [],
   "source": [
    "sns.lineplot(data=a, x=\"q\", y=\"value\", hue=\"variable\")"
   ]
  },
  {
   "cell_type": "code",
   "execution_count": null,
   "id": "3f1bebd5-c6bc-48f0-bb8d-46e116ab058a",
   "metadata": {},
   "outputs": [],
   "source": [
    "sns.jointplot(data=a, x=\"q\", y=\"p\", kind=\"hex\", color=\"#4CB391\")"
   ]
  },
  {
   "cell_type": "code",
   "execution_count": null,
   "id": "c2432d34-5434-4dad-9efe-c37b3c03c0cb",
   "metadata": {},
   "outputs": [],
   "source": [
    "g = sns.scatterplot(\n",
    "    data=x,\n",
    "    x=\"q\",\n",
    "    y=\"p\",\n",
    "    hue=\"perc dropped\",\n",
    ")"
   ]
  },
  {
   "cell_type": "code",
   "execution_count": null,
   "id": "e2b0f211-7a41-45c5-8e97-f3e24b83c8ec",
   "metadata": {},
   "outputs": [],
   "source": [
    "x.to_csv(\"sga_eval.csv\")"
   ]
  },
  {
   "cell_type": "code",
   "execution_count": null,
   "id": "c4b0c3c2-44e0-4d15-9803-e28616db7b2f",
   "metadata": {},
   "outputs": [],
   "source": [
    "hist(dfs[0], diff)"
   ]
  },
  {
   "cell_type": "code",
   "execution_count": null,
   "id": "838ace74-508d-44f9-8925-f3c37d6dd205",
   "metadata": {},
   "outputs": [],
   "source": [
    "hist(dfs[1], diff)"
   ]
  },
  {
   "cell_type": "code",
   "execution_count": null,
   "id": "da1c4341-6df4-42aa-8a5d-82d0b617f337",
   "metadata": {},
   "outputs": [],
   "source": [
    "hist(dfs[2], diff)"
   ]
  },
  {
   "cell_type": "code",
   "execution_count": null,
   "id": "fdd71186-ced2-4fd7-835c-cdfc9fb865fe",
   "metadata": {},
   "outputs": [],
   "source": [
    "eval_df"
   ]
  },
  {
   "cell_type": "code",
   "execution_count": null,
   "id": "4cacff0c-ecf5-4394-9af3-79c55ef6c858",
   "metadata": {},
   "outputs": [],
   "source": [
    "srt = eval_df.groupby(\"value\").size().sort_values(ascending=False)"
   ]
  },
  {
   "cell_type": "code",
   "execution_count": null,
   "id": "4f26fdab-9269-412d-b649-ed2c594646a5",
   "metadata": {},
   "outputs": [],
   "source": [
    "srt"
   ]
  },
  {
   "cell_type": "code",
   "execution_count": null,
   "id": "651131fb-c41c-49da-bc57-d2d7f13af477",
   "metadata": {},
   "outputs": [],
   "source": [
    "%%time\n",
    "sns.set_style('darkgrid')\n",
    "plot = sns.catplot(\n",
    "    data=eval_df, x=\"value\", y=\"single\", hue=\"index\", kind=\"strip\", row=\"sol_size\", order=srt, sharey=False, aspect=3, s=6\n",
    ")\n",
    "plot.set_xticklabels(rotation=90)\n",
    "for ax in plot.axes.flat:\n",
    "    ax.grid(True, axis='both')"
   ]
  },
  {
   "cell_type": "code",
   "execution_count": null,
   "id": "dee80fae-0fa1-433d-9702-1270f92b9439",
   "metadata": {},
   "outputs": [],
   "source": [
    "df"
   ]
  },
  {
   "cell_type": "code",
   "execution_count": null,
   "id": "c23e2827-bcdc-4da2-98eb-9a03a56fa218",
   "metadata": {},
   "outputs": [],
   "source": [
    "eval_df_full = pd.concat(\n",
    "    [\n",
    "        melt(dfs[0]),\n",
    "        melt(dfs[1]),\n",
    "        melt(dfs[2]),\n",
    "    ]\n",
    ").reset_index()"
   ]
  },
  {
   "cell_type": "code",
   "execution_count": null,
   "id": "b0e273af-f4b2-41d7-94dd-a93001284bcc",
   "metadata": {},
   "outputs": [],
   "source": [
    "dfs[0]"
   ]
  },
  {
   "cell_type": "code",
   "execution_count": null,
   "id": "2a060ae3-50db-4601-acbe-0b94c4a9e7f8",
   "metadata": {},
   "outputs": [],
   "source": [
    "%%time\n",
    "plot = sns.catplot(\n",
    "    data=eval_df, x=\"value\", y=\"single\", hue=\"value\", row=\"sol_size\", legend=False, kind=\"violin\"\n",
    ")\n",
    "_ = plt.setp(plot.get_xticklabels(), rotation=90)\n",
    "_ = plt.tight_layout()\n",
    "plot.get_figure().set_size_inches(24, 24)"
   ]
  },
  {
   "cell_type": "code",
   "execution_count": null,
   "id": "ad00158d-145a-463f-9916-a16d1d481853",
   "metadata": {},
   "outputs": [],
   "source": [
    "a\n",
    "\n",
    "\n",
    "subset = subset.drop(\"variable\", axis=1)\n",
    "a = subset.groupby(\"value\").mean()\n",
    "b = subset.groupby([\"value\"]).size()\n",
    "subset = (\n",
    "    pd.concat([a, b], axis=1).reset_index(level=[\"value\"]).rename({0: \"count\"}, axis=1)\n",
    ")\n",
    "subset = subset.sort_values(\"count\", ascending=False).reset_index(drop=True)\n",
    "subset\n",
    "\n",
    "# plot = sns.barplot(x=subset[\"value\"], y=subset[\"count\"])\n",
    "# _ = plt.setp(plot.get_xticklabels(), rotation=90)\n",
    "# plot.get_figure().set_size_inches(14, 4)\n",
    "# plot\n",
    "# prettify_axes(plot)"
   ]
  },
  {
   "cell_type": "code",
   "execution_count": null,
   "id": "83889f15-ef72-44b5-b039-e121869ee489",
   "metadata": {},
   "outputs": [],
   "source": [
    "ag_cols = [\"0\", \"1\", \"2\", \"3\", \"4\"]\n",
    "subset = dfs[0]\n",
    "subset = subset[subset[\"single\"] > 3.5]\n",
    "# subset\n",
    "subset = subset.loc[:, [\"0\", \"1\", \"2\", \"3\", \"4\", \"approach\", \"single\", \"median\"]]\n",
    "# subset\n",
    "\n",
    "subset = pd.melt(subset, id_vars=[\"approach\", \"single\", \"median\"], value_vars=ag_cols)\n",
    "subset = subset.drop(\"variable\", axis=1)\n",
    "subset\n",
    "subset = subset[subset[\"value\"].map(subset[\"value\"].value_counts()) > 3]\n",
    "# subset.value[subset[\"value\"].value_counts() > 5]\n",
    "plot = sns.violinplot(\n",
    "    data=subset, x=\"value\", y=\"single\", hue=\"approach\", split=True, inner=None\n",
    ")\n",
    "_ = plt.setp(plot.get_xticklabels(), rotation=90)\n",
    "plot.get_figure().set_size_inches(10, 5)\n",
    "# plot\n",
    "# prettify_axes(plot)"
   ]
  },
  {
   "cell_type": "code",
   "execution_count": null,
   "id": "e2f6abd0-fe09-440b-affd-3771da045fae",
   "metadata": {},
   "outputs": [],
   "source": [
    "subset = subset.join(subset.groupby(\"value\").size().rename(\"count\"), on=\"value\")"
   ]
  },
  {
   "cell_type": "code",
   "execution_count": null,
   "id": "53dc7608-4c7b-4d4f-9b5e-fafd59160faa",
   "metadata": {},
   "outputs": [],
   "source": [
    "subset"
   ]
  },
  {
   "cell_type": "code",
   "execution_count": null,
   "id": "ccc59c53-91e1-4996-8903-ab0dd1d02a0b",
   "metadata": {},
   "outputs": [],
   "source": [
    "plot = sns.scatterplot(data=subset, x=\"value\", y=\"single\", size=\"count\", sizes=(1, 400))\n",
    "_ = plt.setp(plot.get_xticklabels(), rotation=90)\n",
    "plot.get_figure().set_size_inches(20, 10)"
   ]
  },
  {
   "cell_type": "code",
   "execution_count": null,
   "id": "0c30bfe6-c785-494f-8817-af2885c004e0",
   "metadata": {},
   "outputs": [],
   "source": []
  },
  {
   "cell_type": "markdown",
   "id": "ac443c36-6359-4dbd-9fc6-6f129c74d2e2",
   "metadata": {
    "jp-MarkdownHeadingCollapsed": true,
    "tags": []
   },
   "source": [
    "# Trash"
   ]
  },
  {
   "cell_type": "code",
   "execution_count": null,
   "id": "2cc67735-6cd2-4913-90de-bd9c7e26e9e4",
   "metadata": {},
   "outputs": [],
   "source": [
    "df_genes = a\n",
    "df = pd.concat([df_classif, df_genes], axis=1)"
   ]
  },
  {
   "cell_type": "code",
   "execution_count": null,
   "id": "1f331f36-b595-4767-a357-cb2c2a9f15f1",
   "metadata": {},
   "outputs": [],
   "source": [
    "df"
   ]
  },
  {
   "cell_type": "code",
   "execution_count": null,
   "id": "43a8134d-b6b1-4644-9211-dfe81d9da2a4",
   "metadata": {},
   "outputs": [],
   "source": [
    "%%time\n",
    "a = df_genes.apply(lambda x: 2**x - 1)"
   ]
  },
  {
   "cell_type": "code",
   "execution_count": null,
   "id": "ef6eb6c5-0dc5-4693-973f-3bee8ffcd39c",
   "metadata": {},
   "outputs": [],
   "source": [
    "import math\n",
    "a.applymap(lambda x: math.log2(x+1))\n"
   ]
  },
  {
   "cell_type": "code",
   "execution_count": null,
   "id": "e31c69e2-1067-421e-9889-542187b3b982",
   "metadata": {},
   "outputs": [],
   "source": [
    "df_genes.head()"
   ]
  },
  {
   "cell_type": "code",
   "execution_count": null,
   "id": "d3e71eb6-dc34-4b91-8fbc-6f7545a79246",
   "metadata": {},
   "outputs": [],
   "source": [
    "l = list(df_genes.columns)\n",
    "l.sort()\n",
    "l"
   ]
  }
 ],
 "metadata": {
  "kernelspec": {
   "display_name": "Python 3 (ipykernel)",
   "language": "python",
   "name": "python3"
  },
  "language_info": {
   "codemirror_mode": {
    "name": "ipython",
    "version": 3
   },
   "file_extension": ".py",
   "mimetype": "text/x-python",
   "name": "python",
   "nbconvert_exporter": "python",
   "pygments_lexer": "ipython3",
   "version": "3.9.0"
  }
 },
 "nbformat": 4,
 "nbformat_minor": 5
}
