{
 "cells": [
  {
   "cell_type": "markdown",
   "id": "a52d1403-eff6-4c08-b005-a3bdc495f0a2",
   "metadata": {
    "tags": []
   },
   "source": [
    "# Collect results"
   ]
  },
  {
   "cell_type": "code",
   "execution_count": null,
   "id": "5bd76ae5-9495-4d00-82ca-47eba2ba3185",
   "metadata": {},
   "outputs": [],
   "source": [
    "import load\n",
    "\n",
    "results = load.Results(su)"
   ]
  },
  {
   "cell_type": "code",
   "execution_count": null,
   "id": "808c5162-b3ac-45a8-9971-4c1e23f36575",
   "metadata": {},
   "outputs": [],
   "source": [
    "# for n in [5, 10, 20]:\n",
    "#   sols = results.collect_and_save(n, linkage_map.keys())\n",
    "_\n",
    "# for n in [5, 10, 20]:\n",
    "#   sols = results.collect_and_save(n, [\"rf\"])"
   ]
  },
  {
   "cell_type": "code",
   "execution_count": null,
   "id": "f1a1772c-3c40-4f3f-820e-8b8d55153049",
   "metadata": {},
   "outputs": [],
   "source": [
    "import os\n",
    "import pandas as pd\n",
    "import scoring\n",
    "from io_utils import sort_genes\n",
    "from tqdm import tqdm\n",
    "\n",
    "RUNS_DIR = os.path.join(\"..\", \"runs\")\n",
    "EVAL_DIR = os.path.join(\"..\", \"eval\")\n",
    "data_dir = \"../data/\""
   ]
  },
  {
   "cell_type": "code",
   "execution_count": null,
   "id": "831ca3b0-81e9-40a3-8db9-29e2ddc709a0",
   "metadata": {},
   "outputs": [],
   "source": [
    "df = pd.read_csv(data_dir + \"data_unscaled.csv\")\n",
    "df\n",
    "display(df.head())"
   ]
  },
  {
   "cell_type": "code",
   "execution_count": null,
   "id": "d64f6045-aa28-402b-b603-538095d7f275",
   "metadata": {},
   "outputs": [],
   "source": [
    "%load_ext autoreload\n",
    "%autoreload 2"
   ]
  },
  {
   "cell_type": "code",
   "execution_count": null,
   "id": "149c5212-b99a-47e4-a403-09cfa050aca3",
   "metadata": {},
   "outputs": [],
   "source": [
    "from scoring import Scoring\n",
    "\n",
    "S = Scoring()"
   ]
  },
  {
   "cell_type": "code",
   "execution_count": null,
   "id": "e06af73b-b5fd-4739-8d1c-2944b4d851e7",
   "metadata": {},
   "outputs": [],
   "source": [
    "def _clean_and_eval(dfs, num_genes, runs):\n",
    "        for df, run in zip(dfs, runs):\n",
    "            df['run_id'] = run.split('/')[-1]\n",
    "        conc = pd.concat(dfs, ignore_index=True)\n",
    "        sols = sort_genes(conc[[str(i) for i in range(num_genes)]])\n",
    "        metrics = conc[conc.columns.intersection(scoring.abs_linkages + scoring.log_linkages)]#.reset_index()\n",
    "        sols = sols.join(metrics)\n",
    "        \n",
    "        x = len(sols)\n",
    "        sols = sols.drop_duplicates(subset=[str(i) for i in range(num_genes)])\n",
    "        #metrics = sols.apply(lambda x: S.score(x, log=True), axis=1)\n",
    "        # metrics_log = sols.apply(lambda x: self.scoring.score(x, log=True), axis=1)\n",
    "        #s#ols = sols.join(metrics)\n",
    "        #sols = sols.join(conc['run_id'])\n",
    "        sols = sols.sort_values(by=\"single_log\", ascending=False)\n",
    "        return sols"
   ]
  },
  {
   "cell_type": "code",
   "execution_count": null,
   "id": "67308db7-aa74-4117-ad7c-446f53671c93",
   "metadata": {},
   "outputs": [],
   "source": [
    "def collect_and_save(num_genes, metrics):\n",
    "        runs = next(os.walk(RUNS_DIR))[1]\n",
    "        runs = list(\n",
    "            filter(\n",
    "                lambda x: f\"_{num_genes}\" in x and any(metric in x for metric in metrics),\n",
    "                runs,\n",
    "            )\n",
    "        )\n",
    "        print(runs)\n",
    "\n",
    "        runs = [os.path.join(RUNS_DIR, run_dir, \"best_sols.csv\") for run_dir in runs]\n",
    "        dfs = []\n",
    "        for run in tqdm(runs):\n",
    "            try:\n",
    "                dfs.append(pd.read_csv(run))\n",
    "            except FileNotFoundError:\n",
    "                print('Run is empty: ', run)\n",
    "\n",
    "        sols = _clean_and_eval(dfs, num_genes, runs)\n",
    "        sols.to_csv(os.path.join(EVAL_DIR, f'{num_genes}_{\"_\".join(metrics)}.csv'))\n",
    "        return sols"
   ]
  },
  {
   "cell_type": "code",
   "execution_count": null,
   "id": "ff80ba27-f558-44ad-a644-c0d56e5f921a",
   "metadata": {},
   "outputs": [],
   "source": [
    "%%time\n",
    "\n",
    "for n in tqdm(range(4,21)):\n",
    "    print('-------- ', n, ' -------')\n",
    "    collect_and_save(n, ['single'])\n",
    "    \n",
    "#collect_and_save(20, ['single'])"
   ]
  },
  {
   "cell_type": "code",
   "execution_count": null,
   "id": "b3d759aa-5832-4ad7-97d5-eb2429984301",
   "metadata": {},
   "outputs": [],
   "source": [
    "%%time\n",
    "\n",
    "from scoring import linkage_map_log\n",
    "for n in [5]:\n",
    "    sols = results.collect_and_save(n, linkage_map_log.keys())"
   ]
  },
  {
   "cell_type": "code",
   "execution_count": null,
   "id": "fdac22fb-a355-43cb-9b3c-6d4397e3e0f7",
   "metadata": {},
   "outputs": [],
   "source": [
    "sols"
   ]
  },
  {
   "cell_type": "code",
   "execution_count": null,
   "id": "6490fa79",
   "metadata": {},
   "outputs": [],
   "source": [
    "%%time\n",
    "\n",
    "from scoring import linkage_map_log\n",
    "for n in [10]:\n",
    "    sols = results.collect_and_save(n, linkage_map_log.keys())\n",
    "sols"
   ]
  }
 ],
 "metadata": {
  "kernelspec": {
   "display_name": "Python 3 (ipykernel)",
   "language": "python",
   "name": "python3"
  },
  "language_info": {
   "codemirror_mode": {
    "name": "ipython",
    "version": 3
   },
   "file_extension": ".py",
   "mimetype": "text/x-python",
   "name": "python",
   "nbconvert_exporter": "python",
   "pygments_lexer": "ipython3",
   "version": "3.9.0"
  }
 },
 "nbformat": 4,
 "nbformat_minor": 5
}
