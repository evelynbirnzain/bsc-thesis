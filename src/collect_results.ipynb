{
 "cells": [
  {
   "cell_type": "markdown",
   "id": "a52d1403-eff6-4c08-b005-a3bdc495f0a2",
   "metadata": {
    "tags": []
   },
   "source": [
    "# Collect results"
   ]
  },
  {
   "cell_type": "code",
   "execution_count": null,
   "id": "5bd76ae5-9495-4d00-82ca-47eba2ba3185",
   "metadata": {},
   "outputs": [],
   "source": [
    "import load\n",
    "\n",
    "results = load.Results(su)\n",
    "#%%time\n",
    "# for n in [5, 10, 20]:\n",
    "#   sols = results.collect_and_save(n, linkage_map.keys())\n",
    "_\n",
    "# for n in [5, 10, 20]:\n",
    "#   sols = results.collect_and_save(n, [\"rf\"])"
   ]
  },
  {
   "cell_type": "code",
   "execution_count": null,
   "id": "67308db7-aa74-4117-ad7c-446f53671c93",
   "metadata": {},
   "outputs": [],
   "source": [
    "%%time\n",
    "\n",
    "from scoring import linkage_map_log\n",
    "for n in [2,3,4,5,6,7,8,9,10,20]:\n",
    "    sols = results.collect_and_save(n, linkage_map_log.keys())"
   ]
  },
  {
   "cell_type": "code",
   "execution_count": null,
   "id": "ff80ba27-f558-44ad-a644-c0d56e5f921a",
   "metadata": {},
   "outputs": [],
   "source": [
    "%%time\n",
    "\n",
    "from scoring import linkage_map_log\n",
    "for n in [5]:\n",
    "    sols = results.collect_and_save(n, linkage_map_log.keys())"
   ]
  },
  {
   "cell_type": "code",
   "execution_count": null,
   "id": "b3d759aa-5832-4ad7-97d5-eb2429984301",
   "metadata": {},
   "outputs": [],
   "source": [
    "sols"
   ]
  },
  {
   "cell_type": "code",
   "execution_count": null,
   "id": "fdac22fb-a355-43cb-9b3c-6d4397e3e0f7",
   "metadata": {},
   "outputs": [],
   "source": [
    "%%time\n",
    "\n",
    "from scoring import linkage_map_log\n",
    "for n in [10]:\n",
    "    sols = results.collect_and_save(n, linkage_map_log.keys())\n",
    "sols"
   ]
  }
 ],
 "metadata": {
  "kernelspec": {
   "display_name": "Python 3 (ipykernel)",
   "language": "python",
   "name": "python3"
  },
  "language_info": {
   "codemirror_mode": {
    "name": "ipython",
    "version": 3
   },
   "file_extension": ".py",
   "mimetype": "text/x-python",
   "name": "python",
   "nbconvert_exporter": "python",
   "pygments_lexer": "ipython3",
   "version": "3.9.0"
  }
 },
 "nbformat": 4,
 "nbformat_minor": 5
}
