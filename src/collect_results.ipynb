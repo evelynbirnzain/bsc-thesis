{
 "cells": [
  {
   "cell_type": "markdown",
   "id": "a52d1403-eff6-4c08-b005-a3bdc495f0a2",
   "metadata": {
    "tags": []
   },
   "source": [
    "# Collect results"
   ]
  },
  {
   "cell_type": "code",
   "execution_count": null,
   "id": "5bd76ae5-9495-4d00-82ca-47eba2ba3185",
   "metadata": {},
   "outputs": [],
   "source": [
    "import load\n",
    "\n",
    "results = load.Results(su)\n",
    "#%%time\n",
    "# for n in [5, 10, 20]:\n",
    "#   sols = results.collect_and_save(n, linkage_map.keys())\n",
    "_\n",
    "# for n in [5, 10, 20]:\n",
    "#   sols = results.collect_and_save(n, [\"rf\"])"
   ]
  },
  {
   "cell_type": "code",
   "execution_count": 3,
   "id": "808c5162-b3ac-45a8-9971-4c1e23f36575",
   "metadata": {},
   "outputs": [],
   "source": [
    "import os\n",
    "import pandas as pd\n",
    "import scoring\n",
    "from io_utils import sort_genes\n",
    "from tqdm import tqdm\n",
    "\n",
    "RUNS_DIR = os.path.join(\"..\", \"runs\")\n",
    "EVAL_DIR = os.path.join(\"..\", \"eval\")\n",
    "data_dir = \"../data/\""
   ]
  },
  {
   "cell_type": "code",
   "execution_count": 2,
   "id": "f1a1772c-3c40-4f3f-820e-8b8d55153049",
   "metadata": {},
   "outputs": [
    {
     "ename": "ParserError",
     "evalue": "Error tokenizing data. C error: Calling read(nbytes) on source failed. Try engine='python'.",
     "output_type": "error",
     "traceback": [
      "\u001b[1;31m---------------------------------------------------------------------------\u001b[0m",
      "\u001b[1;31mParserError\u001b[0m                               Traceback (most recent call last)",
      "\u001b[1;32m~\\AppData\\Local\\Temp/ipykernel_12484/2004565952.py\u001b[0m in \u001b[0;36m<module>\u001b[1;34m\u001b[0m\n\u001b[1;32m----> 1\u001b[1;33m \u001b[0mdf\u001b[0m \u001b[1;33m=\u001b[0m \u001b[0mpd\u001b[0m\u001b[1;33m.\u001b[0m\u001b[0mread_csv\u001b[0m\u001b[1;33m(\u001b[0m\u001b[0mdata_dir\u001b[0m \u001b[1;33m+\u001b[0m \u001b[1;34m\"data_unscaled.csv\"\u001b[0m\u001b[1;33m)\u001b[0m\u001b[1;33m\u001b[0m\u001b[1;33m\u001b[0m\u001b[0m\n\u001b[0m\u001b[0;32m      2\u001b[0m \u001b[0mdf\u001b[0m\u001b[1;33m\u001b[0m\u001b[1;33m\u001b[0m\u001b[0m\n\u001b[0;32m      3\u001b[0m \u001b[0mdisplay\u001b[0m\u001b[1;33m(\u001b[0m\u001b[0mdf\u001b[0m\u001b[1;33m.\u001b[0m\u001b[0mhead\u001b[0m\u001b[1;33m(\u001b[0m\u001b[1;33m)\u001b[0m\u001b[1;33m)\u001b[0m\u001b[1;33m\u001b[0m\u001b[1;33m\u001b[0m\u001b[0m\n",
      "\u001b[1;32mc:\\users\\evelyn\\ideaprojects\\bacarbeit\\.venv\\lib\\site-packages\\pandas\\util\\_decorators.py\u001b[0m in \u001b[0;36mwrapper\u001b[1;34m(*args, **kwargs)\u001b[0m\n\u001b[0;32m    309\u001b[0m                     \u001b[0mstacklevel\u001b[0m\u001b[1;33m=\u001b[0m\u001b[0mstacklevel\u001b[0m\u001b[1;33m,\u001b[0m\u001b[1;33m\u001b[0m\u001b[1;33m\u001b[0m\u001b[0m\n\u001b[0;32m    310\u001b[0m                 )\n\u001b[1;32m--> 311\u001b[1;33m             \u001b[1;32mreturn\u001b[0m \u001b[0mfunc\u001b[0m\u001b[1;33m(\u001b[0m\u001b[1;33m*\u001b[0m\u001b[0margs\u001b[0m\u001b[1;33m,\u001b[0m \u001b[1;33m**\u001b[0m\u001b[0mkwargs\u001b[0m\u001b[1;33m)\u001b[0m\u001b[1;33m\u001b[0m\u001b[1;33m\u001b[0m\u001b[0m\n\u001b[0m\u001b[0;32m    312\u001b[0m \u001b[1;33m\u001b[0m\u001b[0m\n\u001b[0;32m    313\u001b[0m         \u001b[1;32mreturn\u001b[0m \u001b[0mwrapper\u001b[0m\u001b[1;33m\u001b[0m\u001b[1;33m\u001b[0m\u001b[0m\n",
      "\u001b[1;32mc:\\users\\evelyn\\ideaprojects\\bacarbeit\\.venv\\lib\\site-packages\\pandas\\io\\parsers\\readers.py\u001b[0m in \u001b[0;36mread_csv\u001b[1;34m(filepath_or_buffer, sep, delimiter, header, names, index_col, usecols, squeeze, prefix, mangle_dupe_cols, dtype, engine, converters, true_values, false_values, skipinitialspace, skiprows, skipfooter, nrows, na_values, keep_default_na, na_filter, verbose, skip_blank_lines, parse_dates, infer_datetime_format, keep_date_col, date_parser, dayfirst, cache_dates, iterator, chunksize, compression, thousands, decimal, lineterminator, quotechar, quoting, doublequote, escapechar, comment, encoding, encoding_errors, dialect, error_bad_lines, warn_bad_lines, on_bad_lines, delim_whitespace, low_memory, memory_map, float_precision, storage_options)\u001b[0m\n\u001b[0;32m    584\u001b[0m     \u001b[0mkwds\u001b[0m\u001b[1;33m.\u001b[0m\u001b[0mupdate\u001b[0m\u001b[1;33m(\u001b[0m\u001b[0mkwds_defaults\u001b[0m\u001b[1;33m)\u001b[0m\u001b[1;33m\u001b[0m\u001b[1;33m\u001b[0m\u001b[0m\n\u001b[0;32m    585\u001b[0m \u001b[1;33m\u001b[0m\u001b[0m\n\u001b[1;32m--> 586\u001b[1;33m     \u001b[1;32mreturn\u001b[0m \u001b[0m_read\u001b[0m\u001b[1;33m(\u001b[0m\u001b[0mfilepath_or_buffer\u001b[0m\u001b[1;33m,\u001b[0m \u001b[0mkwds\u001b[0m\u001b[1;33m)\u001b[0m\u001b[1;33m\u001b[0m\u001b[1;33m\u001b[0m\u001b[0m\n\u001b[0m\u001b[0;32m    587\u001b[0m \u001b[1;33m\u001b[0m\u001b[0m\n\u001b[0;32m    588\u001b[0m \u001b[1;33m\u001b[0m\u001b[0m\n",
      "\u001b[1;32mc:\\users\\evelyn\\ideaprojects\\bacarbeit\\.venv\\lib\\site-packages\\pandas\\io\\parsers\\readers.py\u001b[0m in \u001b[0;36m_read\u001b[1;34m(filepath_or_buffer, kwds)\u001b[0m\n\u001b[0;32m    486\u001b[0m \u001b[1;33m\u001b[0m\u001b[0m\n\u001b[0;32m    487\u001b[0m     \u001b[1;32mwith\u001b[0m \u001b[0mparser\u001b[0m\u001b[1;33m:\u001b[0m\u001b[1;33m\u001b[0m\u001b[1;33m\u001b[0m\u001b[0m\n\u001b[1;32m--> 488\u001b[1;33m         \u001b[1;32mreturn\u001b[0m \u001b[0mparser\u001b[0m\u001b[1;33m.\u001b[0m\u001b[0mread\u001b[0m\u001b[1;33m(\u001b[0m\u001b[0mnrows\u001b[0m\u001b[1;33m)\u001b[0m\u001b[1;33m\u001b[0m\u001b[1;33m\u001b[0m\u001b[0m\n\u001b[0m\u001b[0;32m    489\u001b[0m \u001b[1;33m\u001b[0m\u001b[0m\n\u001b[0;32m    490\u001b[0m \u001b[1;33m\u001b[0m\u001b[0m\n",
      "\u001b[1;32mc:\\users\\evelyn\\ideaprojects\\bacarbeit\\.venv\\lib\\site-packages\\pandas\\io\\parsers\\readers.py\u001b[0m in \u001b[0;36mread\u001b[1;34m(self, nrows)\u001b[0m\n\u001b[0;32m   1045\u001b[0m     \u001b[1;32mdef\u001b[0m \u001b[0mread\u001b[0m\u001b[1;33m(\u001b[0m\u001b[0mself\u001b[0m\u001b[1;33m,\u001b[0m \u001b[0mnrows\u001b[0m\u001b[1;33m=\u001b[0m\u001b[1;32mNone\u001b[0m\u001b[1;33m)\u001b[0m\u001b[1;33m:\u001b[0m\u001b[1;33m\u001b[0m\u001b[1;33m\u001b[0m\u001b[0m\n\u001b[0;32m   1046\u001b[0m         \u001b[0mnrows\u001b[0m \u001b[1;33m=\u001b[0m \u001b[0mvalidate_integer\u001b[0m\u001b[1;33m(\u001b[0m\u001b[1;34m\"nrows\"\u001b[0m\u001b[1;33m,\u001b[0m \u001b[0mnrows\u001b[0m\u001b[1;33m)\u001b[0m\u001b[1;33m\u001b[0m\u001b[1;33m\u001b[0m\u001b[0m\n\u001b[1;32m-> 1047\u001b[1;33m         \u001b[0mindex\u001b[0m\u001b[1;33m,\u001b[0m \u001b[0mcolumns\u001b[0m\u001b[1;33m,\u001b[0m \u001b[0mcol_dict\u001b[0m \u001b[1;33m=\u001b[0m \u001b[0mself\u001b[0m\u001b[1;33m.\u001b[0m\u001b[0m_engine\u001b[0m\u001b[1;33m.\u001b[0m\u001b[0mread\u001b[0m\u001b[1;33m(\u001b[0m\u001b[0mnrows\u001b[0m\u001b[1;33m)\u001b[0m\u001b[1;33m\u001b[0m\u001b[1;33m\u001b[0m\u001b[0m\n\u001b[0m\u001b[0;32m   1048\u001b[0m \u001b[1;33m\u001b[0m\u001b[0m\n\u001b[0;32m   1049\u001b[0m         \u001b[1;32mif\u001b[0m \u001b[0mindex\u001b[0m \u001b[1;32mis\u001b[0m \u001b[1;32mNone\u001b[0m\u001b[1;33m:\u001b[0m\u001b[1;33m\u001b[0m\u001b[1;33m\u001b[0m\u001b[0m\n",
      "\u001b[1;32mc:\\users\\evelyn\\ideaprojects\\bacarbeit\\.venv\\lib\\site-packages\\pandas\\io\\parsers\\c_parser_wrapper.py\u001b[0m in \u001b[0;36mread\u001b[1;34m(self, nrows)\u001b[0m\n\u001b[0;32m    221\u001b[0m         \u001b[1;32mtry\u001b[0m\u001b[1;33m:\u001b[0m\u001b[1;33m\u001b[0m\u001b[1;33m\u001b[0m\u001b[0m\n\u001b[0;32m    222\u001b[0m             \u001b[1;32mif\u001b[0m \u001b[0mself\u001b[0m\u001b[1;33m.\u001b[0m\u001b[0mlow_memory\u001b[0m\u001b[1;33m:\u001b[0m\u001b[1;33m\u001b[0m\u001b[1;33m\u001b[0m\u001b[0m\n\u001b[1;32m--> 223\u001b[1;33m                 \u001b[0mchunks\u001b[0m \u001b[1;33m=\u001b[0m \u001b[0mself\u001b[0m\u001b[1;33m.\u001b[0m\u001b[0m_reader\u001b[0m\u001b[1;33m.\u001b[0m\u001b[0mread_low_memory\u001b[0m\u001b[1;33m(\u001b[0m\u001b[0mnrows\u001b[0m\u001b[1;33m)\u001b[0m\u001b[1;33m\u001b[0m\u001b[1;33m\u001b[0m\u001b[0m\n\u001b[0m\u001b[0;32m    224\u001b[0m                 \u001b[1;31m# destructive to chunks\u001b[0m\u001b[1;33m\u001b[0m\u001b[1;33m\u001b[0m\u001b[1;33m\u001b[0m\u001b[0m\n\u001b[0;32m    225\u001b[0m                 \u001b[0mdata\u001b[0m \u001b[1;33m=\u001b[0m \u001b[0m_concatenate_chunks\u001b[0m\u001b[1;33m(\u001b[0m\u001b[0mchunks\u001b[0m\u001b[1;33m)\u001b[0m\u001b[1;33m\u001b[0m\u001b[1;33m\u001b[0m\u001b[0m\n",
      "\u001b[1;32mc:\\users\\evelyn\\ideaprojects\\bacarbeit\\.venv\\lib\\site-packages\\pandas\\_libs\\parsers.pyx\u001b[0m in \u001b[0;36mpandas._libs.parsers.TextReader.read_low_memory\u001b[1;34m()\u001b[0m\n",
      "\u001b[1;32mc:\\users\\evelyn\\ideaprojects\\bacarbeit\\.venv\\lib\\site-packages\\pandas\\_libs\\parsers.pyx\u001b[0m in \u001b[0;36mpandas._libs.parsers.TextReader._read_rows\u001b[1;34m()\u001b[0m\n",
      "\u001b[1;32mc:\\users\\evelyn\\ideaprojects\\bacarbeit\\.venv\\lib\\site-packages\\pandas\\_libs\\parsers.pyx\u001b[0m in \u001b[0;36mpandas._libs.parsers.TextReader._tokenize_rows\u001b[1;34m()\u001b[0m\n",
      "\u001b[1;32mc:\\users\\evelyn\\ideaprojects\\bacarbeit\\.venv\\lib\\site-packages\\pandas\\_libs\\parsers.pyx\u001b[0m in \u001b[0;36mpandas._libs.parsers.raise_parser_error\u001b[1;34m()\u001b[0m\n",
      "\u001b[1;31mParserError\u001b[0m: Error tokenizing data. C error: Calling read(nbytes) on source failed. Try engine='python'."
     ]
    }
   ],
   "source": [
    "df = pd.read_csv(data_dir + \"data_unscaled.csv\")\n",
    "df\n",
    "display(df.head())"
   ]
  },
  {
   "cell_type": "code",
   "execution_count": 4,
   "id": "831ca3b0-81e9-40a3-8db9-29e2ddc709a0",
   "metadata": {},
   "outputs": [],
   "source": [
    "%load_ext autoreload\n",
    "%autoreload 2"
   ]
  },
  {
   "cell_type": "code",
   "execution_count": 5,
   "id": "d64f6045-aa28-402b-b603-538095d7f275",
   "metadata": {},
   "outputs": [],
   "source": [
    "from scoring import Scoring\n",
    "\n",
    "S = Scoring()"
   ]
  },
  {
   "cell_type": "code",
   "execution_count": 16,
   "id": "149c5212-b99a-47e4-a403-09cfa050aca3",
   "metadata": {},
   "outputs": [],
   "source": [
    "def _clean_and_eval(dfs, num_genes, runs):\n",
    "        for df, run in zip(dfs, runs):\n",
    "            df['run_id'] = run.split('/')[-1]\n",
    "        conc = pd.concat(dfs, ignore_index=True)\n",
    "        sols = sort_genes(conc[[str(i) for i in range(num_genes)]])\n",
    "        metrics = conc[conc.columns.intersection(scoring.abs_linkages + scoring.log_linkages)]#.reset_index()\n",
    "        sols = sols.join(metrics)\n",
    "        \n",
    "        x = len(sols)\n",
    "        sols = sols.drop_duplicates(subset=[str(i) for i in range(num_genes)])\n",
    "        #metrics = sols.apply(lambda x: S.score(x, log=True), axis=1)\n",
    "        # metrics_log = sols.apply(lambda x: self.scoring.score(x, log=True), axis=1)\n",
    "        #s#ols = sols.join(metrics)\n",
    "        #sols = sols.join(conc['run_id'])\n",
    "        sols = sols.sort_values(by=\"single_log\", ascending=False)\n",
    "        return sols"
   ]
  },
  {
   "cell_type": "code",
   "execution_count": 17,
   "id": "e06af73b-b5fd-4739-8d1c-2944b4d851e7",
   "metadata": {},
   "outputs": [],
   "source": [
    "def collect_and_save(num_genes, metrics):\n",
    "        runs = next(os.walk(RUNS_DIR))[1]\n",
    "        runs = list(\n",
    "            filter(\n",
    "                lambda x: f\"_{num_genes}\" in x and any(metric in x for metric in metrics),\n",
    "                runs,\n",
    "            )\n",
    "        )\n",
    "        print(runs)\n",
    "\n",
    "        runs = [os.path.join(RUNS_DIR, run_dir, \"best_sols.csv\") for run_dir in runs]\n",
    "        dfs = []\n",
    "        for run in tqdm(runs):\n",
    "            try:\n",
    "                dfs.append(pd.read_csv(run))\n",
    "            except FileNotFoundError:\n",
    "                print('Run is empty: ', run)\n",
    "\n",
    "        sols = _clean_and_eval(dfs, num_genes, runs)\n",
    "        sols.to_csv(os.path.join(EVAL_DIR, f'{num_genes}_{\"_\".join(metrics)}.csv'))\n",
    "        return sols"
   ]
  },
  {
   "cell_type": "code",
   "execution_count": 19,
   "id": "67308db7-aa74-4117-ad7c-446f53671c93",
   "metadata": {},
   "outputs": [
    {
     "name": "stderr",
     "output_type": "stream",
     "text": [
      "  0%|                                                 | 0/17 [00:00<?, ?it/s]"
     ]
    },
    {
     "name": "stdout",
     "output_type": "stream",
     "text": [
      "--------  4  -------\n",
      "['27_single_4', '28_single_4', '30_single_4', '31_single_4', '32_single_4', '33_single_4', '34_single_4']\n"
     ]
    },
    {
     "name": "stderr",
     "output_type": "stream",
     "text": [
      "\n",
      "100%|██████████████████████████████████████████| 7/7 [00:00<00:00, 81.38it/s]\u001b[A\n",
      "  6%|██▍                                      | 1/17 [00:00<00:02,  7.33it/s]"
     ]
    },
    {
     "name": "stdout",
     "output_type": "stream",
     "text": [
      "Run is empty:  ..\\runs\\27_single_4\\best_sols.csv\n",
      "Run is empty:  ..\\runs\\28_single_4\\best_sols.csv\n",
      "--------  5  -------\n",
      "['10_single_5', '1_single_5', '22_single_5', '23_single_5', '24_single_5', '25_single_5', '26_single_5', '2_single_5', '6_single_5', '7_single_5', '8_single_5', '9_single_5']\n"
     ]
    },
    {
     "name": "stderr",
     "output_type": "stream",
     "text": [
      "\n",
      "  0%|                                                 | 0/12 [00:00<?, ?it/s]\u001b[A\n",
      "100%|████████████████████████████████████████| 12/12 [00:00<00:00, 44.14it/s]\u001b[A\n",
      " 12%|████▊                                    | 2/17 [00:00<00:07,  1.98it/s]"
     ]
    },
    {
     "name": "stdout",
     "output_type": "stream",
     "text": [
      "--------  6  -------\n",
      "['35_single_6', '36_single_6', '37_single_6', '38_single_6', '39_single_6']\n"
     ]
    },
    {
     "name": "stderr",
     "output_type": "stream",
     "text": [
      "\n",
      "100%|██████████████████████████████████████████| 5/5 [00:00<00:00, 90.63it/s]\u001b[A\n",
      " 18%|███████▏                                 | 3/17 [00:01<00:04,  3.07it/s]"
     ]
    },
    {
     "name": "stdout",
     "output_type": "stream",
     "text": [
      "--------  7  -------\n",
      "['40_single_7', '41_single_7', '42_single_7', '43_single_7', '44_single_7']\n"
     ]
    },
    {
     "name": "stderr",
     "output_type": "stream",
     "text": [
      "\n",
      "100%|██████████████████████████████████████████| 5/5 [00:00<00:00, 88.37it/s]\u001b[A\n",
      " 24%|█████████▋                               | 4/17 [00:01<00:03,  4.12it/s]"
     ]
    },
    {
     "name": "stdout",
     "output_type": "stream",
     "text": [
      "--------  8  -------\n",
      "['45_single_8', '46_single_8', '47_single_8', '48_single_8', '49_single_8']\n"
     ]
    },
    {
     "name": "stderr",
     "output_type": "stream",
     "text": [
      "\n",
      "100%|██████████████████████████████████████████| 5/5 [00:00<00:00, 90.78it/s]\u001b[A\n",
      " 29%|████████████                             | 5/17 [00:01<00:02,  5.07it/s]"
     ]
    },
    {
     "name": "stdout",
     "output_type": "stream",
     "text": [
      "--------  9  -------\n",
      "['50_single_9', '51_single_9', '52_single_9', '53_single_9', '54_single_9']\n"
     ]
    },
    {
     "name": "stderr",
     "output_type": "stream",
     "text": [
      "\n",
      "100%|██████████████████████████████████████████| 5/5 [00:00<00:00, 68.11it/s]\u001b[A\n",
      " 35%|██████████████▍                          | 6/17 [00:01<00:01,  5.70it/s]"
     ]
    },
    {
     "name": "stdout",
     "output_type": "stream",
     "text": [
      "--------  10  -------\n",
      "['11_single_10', '12_single_10', '13_single_10', '14_single_10', '15_single_10', '16_single_10']\n"
     ]
    },
    {
     "name": "stderr",
     "output_type": "stream",
     "text": [
      "\n",
      "100%|██████████████████████████████████████████| 6/6 [00:00<00:00, 70.92it/s]\u001b[A\n",
      " 41%|████████████████▉                        | 7/17 [00:01<00:01,  5.81it/s]"
     ]
    },
    {
     "name": "stdout",
     "output_type": "stream",
     "text": [
      "--------  11  -------\n",
      "['55_single_11', '56_single_11', '57_single_11', '58_single_11', '59_single_11']\n"
     ]
    },
    {
     "name": "stderr",
     "output_type": "stream",
     "text": [
      "\n",
      "100%|██████████████████████████████████████████| 5/5 [00:00<00:00, 57.15it/s]\u001b[A\n",
      " 47%|███████████████████▎                     | 8/17 [00:01<00:01,  5.85it/s]"
     ]
    },
    {
     "name": "stdout",
     "output_type": "stream",
     "text": [
      "--------  12  -------\n",
      "['60_single_12', '61_single_12', '62_single_12', '63_single_12', '64_single_12']\n"
     ]
    },
    {
     "name": "stderr",
     "output_type": "stream",
     "text": [
      "\n",
      "100%|██████████████████████████████████████████| 5/5 [00:00<00:00, 48.22it/s]\u001b[A\n",
      " 53%|█████████████████████▋                   | 9/17 [00:01<00:01,  5.72it/s]"
     ]
    },
    {
     "name": "stdout",
     "output_type": "stream",
     "text": [
      "--------  13  -------\n",
      "['65_single_13', '66_single_13', '67_single_13', '68_single_13', '69_single_13']\n"
     ]
    },
    {
     "name": "stderr",
     "output_type": "stream",
     "text": [
      "\n",
      "100%|██████████████████████████████████████████| 5/5 [00:00<00:00, 52.61it/s]\u001b[A\n",
      " 59%|███████████████████████▌                | 10/17 [00:02<00:01,  5.63it/s]"
     ]
    },
    {
     "name": "stdout",
     "output_type": "stream",
     "text": [
      "--------  14  -------\n",
      "['70_single_14', '71_single_14', '72_single_14', '73_single_14', '74_single_14', '75_single_14', '76_single_14']\n"
     ]
    },
    {
     "name": "stderr",
     "output_type": "stream",
     "text": [
      "\n",
      "  0%|                                                  | 0/7 [00:00<?, ?it/s]\u001b[A\n",
      "100%|██████████████████████████████████████████| 7/7 [00:00<00:00, 41.97it/s]\u001b[A\n",
      " 65%|█████████████████████████▉              | 11/17 [00:02<00:01,  4.65it/s]"
     ]
    },
    {
     "name": "stdout",
     "output_type": "stream",
     "text": [
      "--------  15  -------\n",
      "['77_single_15', '78_single_15', '79_single_15', '80_single_15', '81_single_15']\n"
     ]
    },
    {
     "name": "stderr",
     "output_type": "stream",
     "text": [
      "\n",
      "100%|██████████████████████████████████████████| 5/5 [00:00<00:00, 65.02it/s]\u001b[A\n",
      " 71%|████████████████████████████▏           | 12/17 [00:02<00:01,  4.99it/s]"
     ]
    },
    {
     "name": "stdout",
     "output_type": "stream",
     "text": [
      "--------  16  -------\n",
      "['82_single_16', '83_single_16', '84_single_16', '85_single_16', '86_single_16']\n"
     ]
    },
    {
     "name": "stderr",
     "output_type": "stream",
     "text": [
      "\n",
      "  0%|                                                  | 0/5 [00:00<?, ?it/s]\u001b[A\n",
      "100%|██████████████████████████████████████████| 5/5 [00:00<00:00, 38.80it/s]\u001b[A\n",
      " 76%|██████████████████████████████▌         | 13/17 [00:02<00:00,  4.53it/s]"
     ]
    },
    {
     "name": "stdout",
     "output_type": "stream",
     "text": [
      "--------  17  -------\n",
      "['87_single_17', '88_single_17', '89_single_17', '90_single_17', '91_single_17']\n"
     ]
    },
    {
     "name": "stderr",
     "output_type": "stream",
     "text": [
      "\n",
      "100%|██████████████████████████████████████████| 5/5 [00:00<00:00, 57.96it/s]\u001b[A\n",
      " 82%|████████████████████████████████▉       | 14/17 [00:03<00:00,  4.16it/s]"
     ]
    },
    {
     "name": "stdout",
     "output_type": "stream",
     "text": [
      "--------  18  -------\n",
      "['92_single_18', '93_single_18', '94_single_18', '95_single_18', '96_single_18']\n"
     ]
    },
    {
     "name": "stderr",
     "output_type": "stream",
     "text": [
      "\n",
      "100%|██████████████████████████████████████████| 5/5 [00:00<00:00, 51.96it/s]\u001b[A\n",
      " 88%|███████████████████████████████████▎    | 15/17 [00:03<00:00,  4.23it/s]"
     ]
    },
    {
     "name": "stdout",
     "output_type": "stream",
     "text": [
      "--------  19  -------\n",
      "['100_single_19', '101_single_19', '97_single_19', '98_single_19', '99_single_19']\n"
     ]
    },
    {
     "name": "stderr",
     "output_type": "stream",
     "text": [
      "\n",
      "  0%|                                                  | 0/5 [00:00<?, ?it/s]\u001b[A\n",
      " 40%|████████████████▊                         | 2/5 [00:00<00:00, 18.20it/s]\u001b[A\n",
      "100%|██████████████████████████████████████████| 5/5 [00:00<00:00, 18.40it/s]\u001b[A\n",
      " 94%|█████████████████████████████████████▋  | 16/17 [00:03<00:00,  3.43it/s]"
     ]
    },
    {
     "name": "stdout",
     "output_type": "stream",
     "text": [
      "--------  20  -------\n",
      "['102_single_20', '103_single_20', '104_single_20', '105_single_20', '17_single_20', '18_single_20', '19_single_20', '20_single_20', '21_single_20']\n"
     ]
    },
    {
     "name": "stderr",
     "output_type": "stream",
     "text": [
      "\n",
      "  0%|                                                  | 0/9 [00:00<?, ?it/s]\u001b[A\n",
      " 22%|█████████▎                                | 2/9 [00:00<00:00, 17.90it/s]\u001b[A\n",
      "100%|██████████████████████████████████████████| 9/9 [00:00<00:00, 28.38it/s]\u001b[A\n",
      "100%|████████████████████████████████████████| 17/17 [00:04<00:00,  3.97it/s]"
     ]
    },
    {
     "name": "stdout",
     "output_type": "stream",
     "text": [
      "Wall time: 4.29 s\n"
     ]
    },
    {
     "name": "stderr",
     "output_type": "stream",
     "text": [
      "\n"
     ]
    }
   ],
   "source": [
    "%%time\n",
    "\n",
    "for n in tqdm(range(4,21)):\n",
    "    print('-------- ', n, ' -------')\n",
    "    collect_and_save(n, ['single'])\n",
    "    \n",
    "#collect_and_save(20, ['single'])"
   ]
  },
  {
   "cell_type": "code",
   "execution_count": null,
   "id": "ff80ba27-f558-44ad-a644-c0d56e5f921a",
   "metadata": {},
   "outputs": [],
   "source": [
    "%%time\n",
    "\n",
    "from scoring import linkage_map_log\n",
    "for n in [5]:\n",
    "    sols = results.collect_and_save(n, linkage_map_log.keys())"
   ]
  },
  {
   "cell_type": "code",
   "execution_count": null,
   "id": "b3d759aa-5832-4ad7-97d5-eb2429984301",
   "metadata": {},
   "outputs": [],
   "source": [
    "sols"
   ]
  },
  {
   "cell_type": "code",
   "execution_count": null,
   "id": "fdac22fb-a355-43cb-9b3c-6d4397e3e0f7",
   "metadata": {},
   "outputs": [],
   "source": [
    "%%time\n",
    "\n",
    "from scoring import linkage_map_log\n",
    "for n in [10]:\n",
    "    sols = results.collect_and_save(n, linkage_map_log.keys())\n",
    "sols"
   ]
  }
 ],
 "metadata": {
  "kernelspec": {
   "display_name": "Python 3 (ipykernel)",
   "language": "python",
   "name": "python3"
  },
  "language_info": {
   "codemirror_mode": {
    "name": "ipython",
    "version": 3
   },
   "file_extension": ".py",
   "mimetype": "text/x-python",
   "name": "python",
   "nbconvert_exporter": "python",
   "pygments_lexer": "ipython3",
   "version": "3.9.0"
  }
 },
 "nbformat": 4,
 "nbformat_minor": 5
}
