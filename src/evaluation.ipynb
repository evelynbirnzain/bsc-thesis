{
 "cells": [
  {
   "cell_type": "markdown",
   "id": "598d7acd-809d-44a2-b1a4-f90e2d2e15ef",
   "metadata": {},
   "source": [
    "# Evaluation"
   ]
  },
  {
   "cell_type": "code",
   "execution_count": null,
   "id": "543abf80-7ee9-4b88-b40d-8218d94a0320",
   "metadata": {},
   "outputs": [],
   "source": [
    "dfs = load.load_solutions([2, 3, 4, 5, 6, 7, 8, 9, 10, 20])\n",
    "dfs[0].head()"
   ]
  },
  {
   "cell_type": "code",
   "execution_count": null,
   "id": "f963e0c5-faa8-4765-b50e-c052d15c361e",
   "metadata": {},
   "outputs": [],
   "source": [
    "dfs = load.load_solutions([5, 10])\n",
    "a = dfs[0]  # .sort_values(\"quantile\", ascending=False)\n",
    "a"
   ]
  },
  {
   "cell_type": "code",
   "execution_count": null,
   "id": "087d3123-3dd3-4721-8de9-8955acb354ce",
   "metadata": {},
   "outputs": [],
   "source": [
    "plotting.boxplot(a.iloc[0, :5], log=True)"
   ]
  },
  {
   "cell_type": "code",
   "execution_count": null,
   "id": "5f2a632d-eacc-40cc-8c2e-aef31e2299f2",
   "metadata": {},
   "outputs": [],
   "source": [
    "dfs[0].approach.unique()"
   ]
  },
  {
   "cell_type": "code",
   "execution_count": null,
   "id": "4cc11f60-d537-47c8-b506-20f1baa02aa0",
   "metadata": {},
   "outputs": [],
   "source": [
    "import pandas as pd\n",
    "\n",
    "\n",
    "def x_best(idx, n):\n",
    "    sols = dfs[idx].iloc[:, :n]\n",
    "    sel = (\n",
    "        dfs[idx]\n",
    "        .loc[\n",
    "            sols.apply(lambda x: su.score(x, \"single_log\", True), axis=1)\n",
    "            .nlargest(10)\n",
    "            .index\n",
    "        ]\n",
    "        .iloc[:, :n]\n",
    "    )\n",
    "    sel = pd.concat(\n",
    "        [\n",
    "            sel,\n",
    "            sel.apply(lambda x: su.score(x), axis=1),\n",
    "            sel.apply(lambda x: su.score(x, log=True), axis=1),\n",
    "        ],\n",
    "        axis=1,\n",
    "    ).join(dfs[0].run_id)\n",
    "    return sel\n",
    "\n",
    "\n",
    "def best(idx, n):\n",
    "    b = x_best(idx, n).iloc[0, :n]\n",
    "    return b\n",
    "\n",
    "\n",
    "def best_score(idx, n):\n",
    "    b = x_best(idx, n).iloc[0][\"single_log\"]\n",
    "    return b"
   ]
  },
  {
   "cell_type": "code",
   "execution_count": null,
   "id": "29be6fa8-425f-40b7-abad-d8d3d9515803",
   "metadata": {},
   "outputs": [],
   "source": [
    "best_score(1, 2)"
   ]
  },
  {
   "cell_type": "code",
   "execution_count": null,
   "id": "317034f8-e6ab-4a32-8b66-4cc6cbe45721",
   "metadata": {},
   "outputs": [],
   "source": [
    "plotting.boxplot(best(8, 9))"
   ]
  },
  {
   "cell_type": "code",
   "execution_count": null,
   "id": "da16d4d5-5414-454f-aadc-4161cf75b6e8",
   "metadata": {},
   "outputs": [],
   "source": [
    "scores = [best_score(idx, idx + 1) for idx in range(10)]\n",
    "scores"
   ]
  },
  {
   "cell_type": "code",
   "execution_count": null,
   "id": "c45c7d19-e2b0-4943-a1ac-39b3f359a14b",
   "metadata": {},
   "outputs": [],
   "source": [
    "import matplotlib.pyplot as plt\n",
    "\n",
    "plt.xticks(range(1, 11))\n",
    "plt.grid(True)\n",
    "plt.xlabel(\"Solution size\")\n",
    "plt.plot(range(1, 11), scores)"
   ]
  },
  {
   "cell_type": "code",
   "execution_count": null,
   "id": "7f170112-9ce0-4172-a494-51a159340b36",
   "metadata": {},
   "outputs": [],
   "source": [
    "import pandas as pd\n",
    "\n",
    "s = Scoring(df_unscaled, \"neuroblastoma\")\n",
    "pd.concat(\n",
    "    [\n",
    "        sel1,\n",
    "        sel1.apply(lambda x: s.score(x), axis=1),\n",
    "        sel1.apply(lambda x: s.score(x, log=True), axis=1),\n",
    "    ],\n",
    "    axis=1,\n",
    ").join(dfs[0].run_id)\n",
    "pd.concat(\n",
    "    [\n",
    "        sel2,\n",
    "        sel2.apply(lambda x: s.score(x), axis=1),\n",
    "        sel2.apply(lambda x: s.score(x, log=True), axis=1),\n",
    "    ],\n",
    "    axis=1,\n",
    ")"
   ]
  },
  {
   "cell_type": "code",
   "execution_count": null,
   "id": "687f14a1-9654-4106-9d69-0b55f550cfc9",
   "metadata": {},
   "outputs": [],
   "source": [
    "plotting.boxplot(sel1.iloc[0])"
   ]
  },
  {
   "cell_type": "code",
   "execution_count": null,
   "id": "eb6d13dc-2c8c-4531-b69c-cdbf390f0b52",
   "metadata": {},
   "outputs": [],
   "source": [
    "d = df_unscaled[[\"tissue\"] + list(best(4, 5))].loc[\n",
    "    df_unscaled.tissue == \"Nerve - Tibial\"\n",
    "]\n",
    "d = d.melt(id_vars=\"tissue\")\n",
    "d"
   ]
  },
  {
   "cell_type": "code",
   "execution_count": null,
   "id": "5332c709-4aec-41ce-8e7a-630d31ee4c20",
   "metadata": {},
   "outputs": [],
   "source": [
    "d[d.variable == \"KCNQ2\"]"
   ]
  },
  {
   "cell_type": "code",
   "execution_count": null,
   "id": "93f2a9f7-6907-4f37-950d-93f91ac10051",
   "metadata": {},
   "outputs": [],
   "source": [
    "import seaborn as sns\n",
    "\n",
    "plt.figure(figsize=(5, 7))\n",
    "sns.boxplot(data=d, x=\"variable\", y=\"value\")"
   ]
  },
  {
   "cell_type": "code",
   "execution_count": null,
   "id": "95143029-ba7c-4b0e-a352-0ec99af4037f",
   "metadata": {},
   "outputs": [],
   "source": [
    "sel = [\"CHRNA7\", \"CLN3\", \"DCC\", \"SLC24A1\", \"VEZT\"]\n",
    "sel2 = [\"CD99\", \"KCNQ2\", \"SMPD4\", \"VEZT\"]"
   ]
  },
  {
   "cell_type": "code",
   "execution_count": null,
   "id": "e557c955-2443-4b1d-937f-d1fc423bdcdf",
   "metadata": {},
   "outputs": [],
   "source": [
    "s = Scoring(df_un"
   ]
  },
  {
   "cell_type": "code",
   "execution_count": null,
   "id": "6cf51adb-2043-4b05-8993-5704154743ff",
   "metadata": {},
   "outputs": [],
   "source": [
    "sel = dfs[0].iloc[0, :5].values\n",
    "Scoring(df_unscaled).score(sel, log=True)\n",
    "plotting.boxplot(sel)"
   ]
  },
  {
   "cell_type": "code",
   "execution_count": null,
   "id": "c01ec317-2b91-46dc-a52c-b373a3a95bbb",
   "metadata": {},
   "outputs": [],
   "source": [
    "import numpy as np\n",
    "\n",
    "# ld = df_unscaled.copy()\n",
    "# ld.iloc[:, 3:] = np.log2(ld.iloc[:, 3:])\n",
    "sel\n",
    "\n",
    "Scoring(ld).score(sel[0:5], log=False).single,\n",
    "Scoring(ld).score(sel, log=False).single\n",
    "# Plotting(ld, Scoring(ld)).boxplot(sel)"
   ]
  },
  {
   "cell_type": "code",
   "execution_count": null,
   "id": "4a69959e-08ad-404a-8aa5-a77b7f78d54c",
   "metadata": {},
   "outputs": [],
   "source": [
    "plotting = Plotting(df, Scoring(df))\n",
    "plotting.boxplot(df_genes.columns)"
   ]
  }
 ],
 "metadata": {
  "kernelspec": {
   "display_name": "Python 3 (ipykernel)",
   "language": "python",
   "name": "python3"
  },
  "language_info": {
   "codemirror_mode": {
    "name": "ipython",
    "version": 3
   },
   "file_extension": ".py",
   "mimetype": "text/x-python",
   "name": "python",
   "nbconvert_exporter": "python",
   "pygments_lexer": "ipython3",
   "version": "3.9.0"
  }
 },
 "nbformat": 4,
 "nbformat_minor": 5
}
