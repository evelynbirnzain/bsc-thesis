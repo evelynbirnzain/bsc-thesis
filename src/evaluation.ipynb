{
 "cells": [
  {
   "cell_type": "markdown",
   "id": "598d7acd-809d-44a2-b1a4-f90e2d2e15ef",
   "metadata": {},
   "source": [
    "# Evaluation"
   ]
  },
  {
   "cell_type": "code",
   "execution_count": null,
   "id": "3fc24db5-1a74-40cd-9ad5-0cc4b85e3c48",
   "metadata": {},
   "outputs": [],
   "source": [
    "%load_ext lab_black\n",
    "%load_ext autoreload\n",
    "%autoreload 2"
   ]
  },
  {
   "cell_type": "code",
   "execution_count": null,
   "id": "e29f762d-a7cd-4511-92c5-4332cd12d4fe",
   "metadata": {},
   "outputs": [],
   "source": [
    "import pandas as pd\n",
    "import os\n",
    "from scoring import linkages\n",
    "import seaborn as sns\n",
    "import matplotlib.pyplot as plt\n",
    "from more_itertools import chunked\n",
    "import numpy as np"
   ]
  },
  {
   "cell_type": "code",
   "execution_count": null,
   "id": "7205e7e9-70d4-41f2-956c-eac3fb5cb6fb",
   "metadata": {},
   "outputs": [],
   "source": [
    "EVAL_DIR = os.path.join(\"..\", \"eval\")"
   ]
  },
  {
   "cell_type": "code",
   "execution_count": null,
   "id": "04aced95-c220-4862-b927-bbdc7e197e4c",
   "metadata": {},
   "outputs": [],
   "source": [
    "def load_solutions(ns):\n",
    "    dfs = []\n",
    "    for n in ns:\n",
    "        try:\n",
    "            temp3 = pd.read_csv(f\"{EVAL_DIR}/{n}_single.csv\")  # TODO\n",
    "            temp3[\"approach\"] = \"ga\"\n",
    "        except FileNotFoundError:\n",
    "            temp3 = pd.DataFrame()\n",
    "            print(\"Didn't find new solutions\")\n",
    "        # df = pd.concat([temp1, temp2, temp3]).sort_values(\"single\", ascending=False).reset_index(drop=True)\n",
    "        df = (\n",
    "            temp3.sort_values(\"single_log\", ascending=False)\n",
    "            .iloc[:, 1:]\n",
    "            .reset_index(drop=True)\n",
    "        )\n",
    "        # dfs.append(df.head(n * 2))\n",
    "        dfs.append(df.head(5))\n",
    "    return dfs"
   ]
  },
  {
   "cell_type": "code",
   "execution_count": null,
   "id": "543abf80-7ee9-4b88-b40d-8218d94a0320",
   "metadata": {},
   "outputs": [],
   "source": [
    "ns = list(range(4, 21))\n",
    "dfs = load_solutions(ns)"
   ]
  },
  {
   "cell_type": "code",
   "execution_count": null,
   "id": "bcf36e77-492e-41a8-a507-b041a6385096",
   "metadata": {},
   "outputs": [],
   "source": [
    "s = dfs[6].iloc[0]\n",
    "s"
   ]
  },
  {
   "cell_type": "code",
   "execution_count": null,
   "id": "acc25ca9-b64a-487c-aa35-65152bc52c70",
   "metadata": {},
   "outputs": [],
   "source": [
    "from scoring import Scoring\n",
    "from plotting import Plotting\n",
    "\n",
    "S = Scoring()\n",
    "P = Plotting(S)"
   ]
  },
  {
   "cell_type": "code",
   "execution_count": null,
   "id": "99439341-9236-4f37-a8e0-be80a1206a24",
   "metadata": {},
   "outputs": [],
   "source": [
    "sol = s[0:10].values"
   ]
  },
  {
   "cell_type": "code",
   "execution_count": null,
   "id": "99cc31ac-b13d-42f2-8d02-5625b42b9dcd",
   "metadata": {},
   "outputs": [],
   "source": [
    "sns.set_style(\"ticks\")\n",
    "P.boxplot(sol, log=True)"
   ]
  },
  {
   "cell_type": "code",
   "execution_count": null,
   "id": "36d961dc-4da0-497a-a9f6-ee7fb86efdeb",
   "metadata": {},
   "outputs": [],
   "source": [
    "import sys"
   ]
  },
  {
   "cell_type": "code",
   "execution_count": null,
   "id": "b6e43164-f1c0-4163-8a00-9a19783ee138",
   "metadata": {},
   "outputs": [],
   "source": [
    "d = pd.melt(\n",
    "    S.df[[\"disease\", \"tissue\"] + list(sol)],\n",
    "    id_vars=[\"disease\", \"tissue\"],\n",
    "    var_name=\"antigen\",\n",
    ")\n",
    "\n",
    "show = [\n",
    "    \"Nerve\",\n",
    "    S.get_worst_tissue(sol, \"max\"),\n",
    "    S.get_worst_tissue(sol, \"median\"),\n",
    "    S.get_worst_tissue(sol, \"outlier_upper\"),\n",
    "]\n",
    "d = d[d.tissue.isin(show)]\n",
    "d[\"scaled\"] = np.log2(d[\"value\"] + 1)\n",
    "plt.figure(figsize=(18, 6))\n",
    "g = sns.violinplot(\n",
    "    data=d,\n",
    "    x=\"tissue\",\n",
    "    y=\"scaled\",\n",
    "    hue=\"antigen\",\n",
    "    dodge=True,\n",
    "    inner=\"point\",\n",
    "    linewidth=0.5,\n",
    "    cut=True,\n",
    "    alpha=0.5,\n",
    "    # bw=0.2,\n",
    "    scale=\"width\",\n",
    "    palette=sns.color_palette() + sns.color_palette(\"pastel\"),\n",
    ")\n",
    "g.set_ylabel(\"log(TPM + 1)\")\n",
    "g.set_title(\n",
    "    'Expression levels of antigens in neuroblastoma samples compared to the three \"closest\" types of tissue'\n",
    ")\n",
    "sns.despine()\n",
    "# g.get_figure().savefig(EVAL_DIR + \"violin10.svg\", format=\"svg\", bbox_inches=\"tight\")\n",
    "# g.set(ylim=(0, 8))\n",
    "# _ = g.set_xticklabels(g.get_xticklabels(), rotation=40, ha=\"right\")"
   ]
  },
  {
   "cell_type": "code",
   "execution_count": null,
   "id": "22c53c60-d40d-4b17-9e58-e13a78e22afe",
   "metadata": {},
   "outputs": [],
   "source": [
    "sns.displot(\n",
    "    data=d[d.antigen != \"ALK\"], x=\"scaled\", hue=\"antigen\", col=\"tissue\", kind=\"kde\"\n",
    ")"
   ]
  },
  {
   "cell_type": "code",
   "execution_count": null,
   "id": "90eec84a-3f40-47b5-9c7b-23d5b4a8823c",
   "metadata": {},
   "outputs": [],
   "source": [
    "def enc(orig, n_antigens):\n",
    "    ks = linkages + [\"approach\"]  # 'run_id',\n",
    "    ks = orig.columns.intersection(ks)\n",
    "    extra = orig[ks]\n",
    "    ag = orig.drop(ks, axis=1).reset_index()\n",
    "    ag = ag.reset_index()\n",
    "    ag = pd.melt(\n",
    "        ag,\n",
    "        id_vars=\"index\",\n",
    "        value_vars=[str(i) for i in range(n_antigens)],\n",
    "        value_name=\"antigen\",\n",
    "    ).drop(\"variable\", axis=1)\n",
    "    ag[\"cnt\"] = 1\n",
    "    p = (\n",
    "        pd.pivot_table(\n",
    "            ag, index=\"index\", columns=[\"antigen\"], values=\"cnt\", aggfunc=\"count\"\n",
    "        )\n",
    "        .fillna(0)\n",
    "        .join(extra)\n",
    "    )\n",
    "    p[\"n\"] = n_antigens\n",
    "    return p"
   ]
  },
  {
   "cell_type": "code",
   "execution_count": null,
   "id": "d3858a74-b3b9-4676-8bcd-119931e4f9f4",
   "metadata": {},
   "outputs": [],
   "source": [
    "encs = []\n",
    "for n in ns:\n",
    "    encs.append(enc(dfs[0], n))\n",
    "    del dfs[0]"
   ]
  },
  {
   "cell_type": "code",
   "execution_count": null,
   "id": "c6e3bff0-8f31-413e-8018-6cba43672700",
   "metadata": {},
   "outputs": [],
   "source": [
    "ev = pd.concat(encs).fillna(0)\n",
    "ev = ev.reset_index(drop=False).rename({\"index\": \"rank\"}, axis=1)\n",
    "ev.head()"
   ]
  },
  {
   "cell_type": "code",
   "execution_count": null,
   "id": "a0c5a191-7441-4c93-8b39-d6639cbf08c8",
   "metadata": {},
   "outputs": [],
   "source": [
    "sns.set_style(\"darkgrid\")\n",
    "ev = ev[ev.n != 15]\n",
    "# ev = ev[ev.n != 19]\n",
    "# ev = ev[ev.n != 20]\n",
    "fig, axs = plt.subplots(1, 2, figsize=(12, 4))\n",
    "pal = sns.color_palette(\"crest\", n_colors=5)\n",
    "fig.suptitle(\"Distance healthy - neuroblastoma by solution size\")\n",
    "sns.scatterplot(\n",
    "    x=\"n\",\n",
    "    y=\"single_log\",\n",
    "    data=ev,\n",
    "    ax=axs[0],\n",
    "    s=15,\n",
    "    hue=\"rank\",\n",
    "    palette=pal,\n",
    "    legend=True,\n",
    ")\n",
    "# sns.lineplot(x=\"n\", y=\"single_log\", data=ev, ax=axs[0], err_style=None)\n",
    "\n",
    "sns.scatterplot(x=\"n\", y=\"single\", data=ev, ax=axs[1], s=15, hue=\"rank\", palette=pal)\n",
    "# axs[1].legend(bbox_to_anchor=(1.2, 0.75), loc=\"upper right\", borderaxespad=0)\n",
    "# sns.scatterplot(\n",
    "#   data=ev,\n",
    "#  x=\"single\",\n",
    "# y=\"single_log\",\n",
    "# hue=\"n\",\n",
    "# ax=axs[2],\n",
    "# palette=sns.color_palette(\"crest\", as_cmap=True),\n",
    "# )\n",
    "fig.savefig(\"../evaldistn.svg\", format=\"svg\", bbox_inches=\"tight\")\n",
    "# sns.lineplot(x=\"n\", y=\"single\", data=ev, ax=axs[1], err_style=None)"
   ]
  },
  {
   "cell_type": "code",
   "execution_count": null,
   "id": "07ad1326-da3f-4aef-940f-a37123210097",
   "metadata": {},
   "outputs": [],
   "source": [
    "a = ev[ev.n.isin(range(15))]\n",
    "b = ev[~ev.n.isin(range(15))]\n",
    "display(a[[\"single_log\", \"n\"]].corr())\n",
    "display(b[[\"single_log\", \"n\"]].corr())\n",
    "display(ev[[\"single\", \"n\"]].corr())\n",
    "display(ev[[\"single\", \"single_log\"]].corr())"
   ]
  },
  {
   "cell_type": "code",
   "execution_count": null,
   "id": "16c607ec-4090-46d9-afb4-6e37f774b2d6",
   "metadata": {},
   "outputs": [],
   "source": [
    "sns.scatterplot(data=ev, x=\"single\", y=\"single_log\", hue=\"n\")"
   ]
  },
  {
   "cell_type": "code",
   "execution_count": null,
   "id": "bc5ee577-331b-4bf7-ba2c-832cb491e5ee",
   "metadata": {},
   "outputs": [],
   "source": [
    "gs = ev.drop(ev.columns.intersection(linkages), axis=1)  # + ['rank']\n",
    "gs = gs.drop(\"rank\", axis=1)\n",
    "grp = gs.groupby(\"n\").sum()\n",
    "m = pd.melt(grp.reset_index(), id_vars=\"n\", value_name=\"cnt\", var_name=\"antigen\")\n",
    "m.cnt = m.cnt / 5  # (m.n * 2)\n",
    "m.head()"
   ]
  },
  {
   "cell_type": "code",
   "execution_count": null,
   "id": "1d04e722-80a9-42c8-b13c-a30f13716aab",
   "metadata": {},
   "outputs": [],
   "source": [
    "sns.histplot(m.cnt)"
   ]
  },
  {
   "cell_type": "code",
   "execution_count": null,
   "id": "48addcd5-ac02-4298-8cc0-cd5aaef0f44a",
   "metadata": {},
   "outputs": [],
   "source": [
    "f = m[m.cnt > 0]\n",
    "m = m[m.antigen.isin(f.antigen.unique())]\n",
    "ags = f.antigen.unique()\n",
    "ags = np.array(sorted(ags))[(f[f.cnt > 0].groupby(\"antigen\").size() > 1)]\n",
    "print(len(f.antigen.unique()))\n",
    "sns.histplot(f.cnt)"
   ]
  },
  {
   "cell_type": "code",
   "execution_count": null,
   "id": "7343a4e3-d04a-47ee-8307-c24b81e807fb",
   "metadata": {},
   "outputs": [],
   "source": [
    "batches = list(chunked(sorted(ags), 10))\n",
    "fig, axs = plt.subplots(len(batches), 1, figsize=(16, 2 * len(batches)))\n",
    "leg = True\n",
    "for batch, ax in zip(batches, axs):\n",
    "    batch = m[m.antigen.isin(batch)].sort_values(by=\"antigen\").reset_index()\n",
    "    g = sns.barplot(\n",
    "        data=batch,\n",
    "        x=\"antigen\",\n",
    "        hue=\"n\",\n",
    "        y=\"cnt\",\n",
    "        ax=ax,\n",
    "        palette=sns.color_palette(\"crest\", len(m.n.unique())),\n",
    "    )\n",
    "    if not leg:\n",
    "        g.legend_.remove()\n",
    "    else:\n",
    "        leg = False\n",
    "        ax.legend(bbox_to_anchor=(1.01, 1), loc=2, borderaxespad=0.0)\n",
    "    g.set(ylim=(0, 1))\n",
    "# _ = g.set_xticklabels(g.get_xticklabels(), rotation=45)"
   ]
  },
  {
   "cell_type": "code",
   "execution_count": null,
   "id": "e2484361-5ee7-4d72-895e-245decb83969",
   "metadata": {},
   "outputs": [],
   "source": [
    "x = ags.rename('c').to_frame().reset_index()"
   ]
  },
  {
   "cell_type": "code",
   "execution_count": null,
   "id": "da40acf5-543a-4658-bedb-bd9aac1de2bf",
   "metadata": {},
   "outputs": [],
   "source": [
    "a = m[m.n==5]\n",
    "a"
   ]
  },
  {
   "cell_type": "code",
   "execution_count": null,
   "id": "3f37c621-bb02-4756-aad6-482c298f3397",
   "metadata": {},
   "outputs": [],
   "source": [
    "m[m.n == 13]"
   ]
  },
  {
   "cell_type": "code",
   "execution_count": null,
   "id": "4f1d92b9-8a05-4454-b0b3-6fc61590bc2a",
   "metadata": {},
   "outputs": [],
   "source": [
    "m = m.reset_index(drop=True)\n",
    "m"
   ]
  },
  {
   "cell_type": "code",
   "execution_count": null,
   "id": "5e92d7ee-6f21-4af0-bae0-72599054b5b4",
   "metadata": {},
   "outputs": [],
   "source": [
    "sns.catplot(m, x='antigen', y='cnt', kind=\"bar\",aspect=3)"
   ]
  },
  {
   "cell_type": "code",
   "execution_count": null,
   "id": "93c5685c-3211-49ce-9af9-757fcd6d7fcf",
   "metadata": {},
   "outputs": [],
   "source": [
    "df_plt = grp[ags.index].reset_index()\n",
    "df_plt = pd.melt(df_plt, id_vars='n', var_name='antigen', value_name='proportion')\n",
    "df_plt"
   ]
  },
  {
   "cell_type": "code",
   "execution_count": null,
   "id": "c4df10eb-d440-4319-b9d9-a26bf185f27b",
   "metadata": {},
   "outputs": [],
   "source": []
  },
  {
   "cell_type": "code",
   "execution_count": null,
   "id": "281cd9fb-2060-46ef-b1cf-f75488b8c11e",
   "metadata": {},
   "outputs": [],
   "source": [
    "sns.lineplot(data=df_plt, x='n', y='proportion', hue='antigen')"
   ]
  },
  {
   "cell_type": "code",
   "execution_count": null,
   "id": "66531e40-e2e7-4add-992f-47c736287f91",
   "metadata": {},
   "outputs": [],
   "source": [
    "sns.displot(\n",
    "    df, x=\"flipper_length_mm\", col=\"species\", row=\"sex\",\n",
    "    binwidth=3, height=3, facet_kws=dict(margin_titles=True),\n",
    ")"
   ]
  },
  {
   "cell_type": "code",
   "execution_count": null,
   "id": "536d5629-bc0e-494f-932b-472a8a9cabec",
   "metadata": {},
   "outputs": [],
   "source": [
    "encs[0]"
   ]
  },
  {
   "cell_type": "code",
   "execution_count": null,
   "id": "ac12ad79-2dfe-47e9-a731-1656d98143fc",
   "metadata": {},
   "outputs": [],
   "source": [
    "import seaborn as sns\n",
    "\n",
    "sns."
   ]
  },
  {
   "cell_type": "code",
   "execution_count": null,
   "id": "f963e0c5-faa8-4765-b50e-c052d15c361e",
   "metadata": {},
   "outputs": [],
   "source": [
    "dfs = load.load_solutions([5, 10])\n",
    "a = dfs[0]  # .sort_values(\"quantile\", ascending=False)\n",
    "a"
   ]
  },
  {
   "cell_type": "code",
   "execution_count": null,
   "id": "087d3123-3dd3-4721-8de9-8955acb354ce",
   "metadata": {},
   "outputs": [],
   "source": [
    "plotting.boxplot(a.iloc[0, :5], log=True)"
   ]
  },
  {
   "cell_type": "code",
   "execution_count": null,
   "id": "5f2a632d-eacc-40cc-8c2e-aef31e2299f2",
   "metadata": {},
   "outputs": [],
   "source": [
    "dfs[0].approach.unique()"
   ]
  },
  {
   "cell_type": "code",
   "execution_count": null,
   "id": "4cc11f60-d537-47c8-b506-20f1baa02aa0",
   "metadata": {},
   "outputs": [],
   "source": [
    "import pandas as pd\n",
    "\n",
    "\n",
    "def x_best(idx, n):\n",
    "    sols = dfs[idx].iloc[:, :n]\n",
    "    sel = (\n",
    "        dfs[idx]\n",
    "        .loc[\n",
    "            sols.apply(lambda x: su.score(x, \"single_log\", True), axis=1)\n",
    "            .nlargest(10)\n",
    "            .index\n",
    "        ]\n",
    "        .iloc[:, :n]\n",
    "    )\n",
    "    sel = pd.concat(\n",
    "        [\n",
    "            sel,\n",
    "            sel.apply(lambda x: su.score(x), axis=1),\n",
    "            sel.apply(lambda x: su.score(x, log=True), axis=1),\n",
    "        ],\n",
    "        axis=1,\n",
    "    ).join(dfs[0].run_id)\n",
    "    return sel\n",
    "\n",
    "\n",
    "def best(idx, n):\n",
    "    b = x_best(idx, n).iloc[0, :n]\n",
    "    return b\n",
    "\n",
    "\n",
    "def best_score(idx, n):\n",
    "    b = x_best(idx, n).iloc[0][\"single_log\"]\n",
    "    return b"
   ]
  },
  {
   "cell_type": "code",
   "execution_count": null,
   "id": "29be6fa8-425f-40b7-abad-d8d3d9515803",
   "metadata": {},
   "outputs": [],
   "source": [
    "best_score(1, 2)"
   ]
  },
  {
   "cell_type": "code",
   "execution_count": null,
   "id": "317034f8-e6ab-4a32-8b66-4cc6cbe45721",
   "metadata": {},
   "outputs": [],
   "source": [
    "plotting.boxplot(best(8, 9))"
   ]
  },
  {
   "cell_type": "code",
   "execution_count": null,
   "id": "da16d4d5-5414-454f-aadc-4161cf75b6e8",
   "metadata": {},
   "outputs": [],
   "source": [
    "scores = [best_score(idx, idx + 1) for idx in range(10)]\n",
    "scores"
   ]
  },
  {
   "cell_type": "code",
   "execution_count": null,
   "id": "c45c7d19-e2b0-4943-a1ac-39b3f359a14b",
   "metadata": {},
   "outputs": [],
   "source": [
    "import matplotlib.pyplot as plt\n",
    "\n",
    "plt.xticks(range(1, 11))\n",
    "plt.grid(True)\n",
    "plt.xlabel(\"Solution size\")\n",
    "plt.plot(range(1, 11), scores)"
   ]
  },
  {
   "cell_type": "code",
   "execution_count": null,
   "id": "7f170112-9ce0-4172-a494-51a159340b36",
   "metadata": {},
   "outputs": [],
   "source": [
    "import pandas as pd\n",
    "\n",
    "s = Scoring(df_unscaled, \"neuroblastoma\")\n",
    "pd.concat(\n",
    "    [\n",
    "        sel1,\n",
    "        sel1.apply(lambda x: s.score(x), axis=1),\n",
    "        sel1.apply(lambda x: s.score(x, log=True), axis=1),\n",
    "    ],\n",
    "    axis=1,\n",
    ").join(dfs[0].run_id)\n",
    "pd.concat(\n",
    "    [\n",
    "        sel2,\n",
    "        sel2.apply(lambda x: s.score(x), axis=1),\n",
    "        sel2.apply(lambda x: s.score(x, log=True), axis=1),\n",
    "    ],\n",
    "    axis=1,\n",
    ")"
   ]
  },
  {
   "cell_type": "code",
   "execution_count": null,
   "id": "687f14a1-9654-4106-9d69-0b55f550cfc9",
   "metadata": {},
   "outputs": [],
   "source": [
    "plotting.boxplot(sel1.iloc[0])"
   ]
  },
  {
   "cell_type": "code",
   "execution_count": null,
   "id": "eb6d13dc-2c8c-4531-b69c-cdbf390f0b52",
   "metadata": {},
   "outputs": [],
   "source": [
    "d = df_unscaled[[\"tissue\"] + list(best(4, 5))].loc[\n",
    "    df_unscaled.tissue == \"Nerve - Tibial\"\n",
    "]\n",
    "d = d.melt(id_vars=\"tissue\")\n",
    "d"
   ]
  },
  {
   "cell_type": "code",
   "execution_count": null,
   "id": "5332c709-4aec-41ce-8e7a-630d31ee4c20",
   "metadata": {},
   "outputs": [],
   "source": [
    "d[d.variable == \"KCNQ2\"]"
   ]
  },
  {
   "cell_type": "code",
   "execution_count": null,
   "id": "93f2a9f7-6907-4f37-950d-93f91ac10051",
   "metadata": {},
   "outputs": [],
   "source": [
    "import seaborn as sns\n",
    "\n",
    "plt.figure(figsize=(5, 7))\n",
    "sns.boxplot(data=d, x=\"variable\", y=\"value\")"
   ]
  },
  {
   "cell_type": "code",
   "execution_count": null,
   "id": "95143029-ba7c-4b0e-a352-0ec99af4037f",
   "metadata": {},
   "outputs": [],
   "source": [
    "sel = [\"CHRNA7\", \"CLN3\", \"DCC\", \"SLC24A1\", \"VEZT\"]\n",
    "sel2 = [\"CD99\", \"KCNQ2\", \"SMPD4\", \"VEZT\"]"
   ]
  },
  {
   "cell_type": "code",
   "execution_count": null,
   "id": "e557c955-2443-4b1d-937f-d1fc423bdcdf",
   "metadata": {},
   "outputs": [],
   "source": [
    "s = Scoring(df_un"
   ]
  },
  {
   "cell_type": "code",
   "execution_count": null,
   "id": "6cf51adb-2043-4b05-8993-5704154743ff",
   "metadata": {},
   "outputs": [],
   "source": [
    "sel = dfs[0].iloc[0, :5].values\n",
    "Scoring(df_unscaled).score(sel, log=True)\n",
    "plotting.boxplot(sel)"
   ]
  },
  {
   "cell_type": "code",
   "execution_count": null,
   "id": "c01ec317-2b91-46dc-a52c-b373a3a95bbb",
   "metadata": {},
   "outputs": [],
   "source": [
    "import numpy as np\n",
    "\n",
    "# ld = df_unscaled.copy()\n",
    "# ld.iloc[:, 3:] = np.log2(ld.iloc[:, 3:])\n",
    "sel\n",
    "\n",
    "Scoring(ld).score(sel[0:5], log=False).single,\n",
    "Scoring(ld).score(sel, log=False).single\n",
    "# Plotting(ld, Scoring(ld)).boxplot(sel)"
   ]
  },
  {
   "cell_type": "code",
   "execution_count": null,
   "id": "4a69959e-08ad-404a-8aa5-a77b7f78d54c",
   "metadata": {},
   "outputs": [],
   "source": [
    "plotting = Plotting(df, Scoring(df))\n",
    "plotting.boxplot(df_genes.columns)"
   ]
  }
 ],
 "metadata": {
  "kernelspec": {
   "display_name": "Python 3 (ipykernel)",
   "language": "python",
   "name": "python3"
  },
  "language_info": {
   "codemirror_mode": {
    "name": "ipython",
    "version": 3
   },
   "file_extension": ".py",
   "mimetype": "text/x-python",
   "name": "python",
   "nbconvert_exporter": "python",
   "pygments_lexer": "ipython3",
   "version": "3.9.0"
  }
 },
 "nbformat": 4,
 "nbformat_minor": 5
}
