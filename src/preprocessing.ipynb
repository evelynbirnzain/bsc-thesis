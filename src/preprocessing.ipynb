{
 "cells": [
  {
   "cell_type": "markdown",
   "id": "caf8fc60-2eae-4fe5-ada5-6574773982e3",
   "metadata": {},
   "source": [
    "# Preprocessing"
   ]
  },
  {
   "cell_type": "code",
   "execution_count": null,
   "id": "5965a79a-fe75-4ce0-be74-b86ae7170e00",
   "metadata": {},
   "outputs": [],
   "source": [
    "import pandas as pd\n",
    "import seaborn as sns"
   ]
  },
  {
   "cell_type": "markdown",
   "id": "4a4f0c1f-9bef-4884-b307-e0ac840dc043",
   "metadata": {},
   "source": [
    "Clean up data. Classify samples into supergroups."
   ]
  },
  {
   "cell_type": "code",
   "execution_count": null,
   "id": "1b049192-7320-484f-b5fa-4f229f5ce67d",
   "metadata": {},
   "outputs": [],
   "source": [
    "data_dir = \"../data/\"\n",
    "\n",
    "path = data_dir + \"tissue_filtered_neuroplastoma.csv\"\n",
    "\n",
    "df = pd.read_csv(path, dtype={\"disease\": str})\n",
    "df = df.fillna(value={\"disease\": \"control\"})\n",
    "df = df.iloc[:, 2:]\n",
    "df = df[df.source != \"hOB\"]\n",
    "df = df[(df.tissue != \"Cells - EBV-transformed lymphocytes\")\n",
    "        & (df.tissue != \"Cells - Cultured fibroblasts\")]\n",
    "df[\"group\"] = df[\"disease\"]\n",
    "df.loc[df.tissue.str.startswith(\"Brain\"), \"group\"] = \"brain\"\n",
    "df['group'] = df['group'].replace('control', 'other')\n",
    "#df.loc[df.tissue.str.startswith(\"Nerve -\"), \"group\"] = \"nerve\"\n",
    "df[\"disease\"] = df[\"disease\"] != \"control\"\n",
    "df = df.sort_values(\"tissue\").reset_index(drop=True)\n",
    "display(df.head())\n",
    "df.to_csv(data_dir + \"data_scaled.csv\", index=False)"
   ]
  },
  {
   "cell_type": "markdown",
   "id": "e4fe041b-b889-4ee5-b29d-16fce16b6552",
   "metadata": {},
   "source": [
    "Data is scaled as the following: `log_2(data + 1)`. Bring it to its original scale."
   ]
  },
  {
   "cell_type": "code",
   "execution_count": null,
   "id": "79146d4c-1028-4e5e-a693-2bc28e0974fa",
   "metadata": {},
   "outputs": [],
   "source": [
    "df.iloc[:, 3:-1] = 2 ** df.iloc[:, 3:-1] - 1\n",
    "display(df.head())\n",
    "df.to_csv(data_dir + \"data_unscaled.csv\", index=False)"
   ]
  },
  {
   "cell_type": "markdown",
   "id": "0005a4aa-59c0-4a17-9d59-a05e70585d37",
   "metadata": {},
   "source": [
    "# Exploration"
   ]
  },
  {
   "cell_type": "code",
   "execution_count": null,
   "id": "0c1c7022-8238-4dcc-9880-2bf31f5a352a",
   "metadata": {},
   "outputs": [],
   "source": [
    "sns.set_style(\"ticks\")"
   ]
  },
  {
   "cell_type": "code",
   "execution_count": null,
   "id": "9d861bf7-96f9-4946-9e81-49f6d8c02c97",
   "metadata": {},
   "outputs": [],
   "source": [
    "plot = sns.countplot(\n",
    "    data=df,\n",
    "    x=\"tissue\",\n",
    "    order=df.tissue.value_counts().index,\n",
    "    color=\"skyblue\"\n",
    ")\n",
    "_ = plot.bar_label(plot.containers[0])\n",
    "_ = plot.set_xticklabels(plot.get_xticklabels(), rotation=40, ha=\"right\")\n",
    "plot.get_figure().set_size_inches(18, 6)\n",
    "sns.despine()\n",
    "\n",
    "plot.get_figure().savefig(\"../misc/countplot.svg\", format=\"svg\", bbox_inches=\"tight\")"
   ]
  },
  {
   "cell_type": "code",
   "execution_count": null,
   "id": "39047d84-1ba1-42a0-adef-81e02c4e9cbb",
   "metadata": {},
   "outputs": [],
   "source": [
    "plot = sns.displot(df, x='tissue', hue='group', multiple='stack', aspect=3)\n",
    "_ = plot.set_xticklabels(rotation=40, ha=\"right\")\n",
    "sns.despine()\n",
    "plot.savefig(\"../misc/countplot2.svg\", format=\"svg\", bbox_inches=\"tight\")"
   ]
  }
 ],
 "metadata": {
  "kernelspec": {
   "display_name": "Python 3 (ipykernel)",
   "language": "python",
   "name": "python3"
  },
  "language_info": {
   "codemirror_mode": {
    "name": "ipython",
    "version": 3
   },
   "file_extension": ".py",
   "mimetype": "text/x-python",
   "name": "python",
   "nbconvert_exporter": "python",
   "pygments_lexer": "ipython3",
   "version": "3.9.0"
  }
 },
 "nbformat": 4,
 "nbformat_minor": 5
}
