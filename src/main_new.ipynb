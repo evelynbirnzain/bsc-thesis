{
 "cells": [
  {
   "cell_type": "code",
   "execution_count": 1,
   "id": "46056c7d-328a-425d-a906-8bc8f1ad7a5a",
   "metadata": {},
   "outputs": [],
   "source": [
    "%load_ext lab_black\n",
    "%load_ext autoreload\n",
    "%autoreload 2"
   ]
  },
  {
   "cell_type": "code",
   "execution_count": null,
   "id": "fa4abb7d-a254-4282-a50e-13bbed8d5474",
   "metadata": {},
   "outputs": [],
   "source": [
    "import load\n",
    "\n",
    "df = load.load_df()\n",
    "\n",
    "df\n",
    "df_genes = df.iloc[:, 3:-1]\n",
    "genes = df_genes.columns\n",
    "\n",
    "df_unscaled = df.copy()\n"
   ]
  },
  {
   "cell_type": "code",
   "execution_count": null,
   "id": "b0f74a0d-ebc5-4418-b641-b278657599f1",
   "metadata": {},
   "outputs": [],
   "source": [
    "import seaborn as sns\n",
    "\n",
    "sns.set_style(\"ticks\")\n",
    "plot = sns.countplot(\n",
    "    data=df_unscaled,\n",
    "    x=\"tissue\",\n",
    "    order=df_unscaled.tissue.value_counts().index,\n",
    "    color=\"skyblue\",\n",
    ")\n",
    "_ = plot.bar_label(plot.containers[0])\n",
    "\n",
    "_ = plot.set_xticklabels(plot.get_xticklabels(), rotation=40, ha=\"right\")\n",
    "plot.get_figure().set_size_inches(18, 6)\n",
    "sns.despine()\n",
    "\n",
    "plot.get_figure().savefig(\"../misc/countplot.svg\", format=\"svg\", bbox_inches=\"tight\")"
   ]
  },
  {
   "cell_type": "code",
   "execution_count": null,
   "id": "99a11422-5e46-41c5-9a3a-1d94a4021600",
   "metadata": {},
   "outputs": [],
   "source": [
    "from scoring import Scoring, linkage_map\n",
    "from plotting import Plotting\n",
    "\n",
    "su = Scoring(df_unscaled)\n",
    "plotting = Plotting(df_unscaled, su)"
   ]
  },
  {
   "cell_type": "markdown",
   "id": "284419bb-0224-4468-b31d-df38de919011",
   "metadata": {},
   "source": [
    "## GA"
   ]
  },
  {
   "cell_type": "code",
   "execution_count": null,
   "id": "e3e305b9-f2d8-49bf-b224-7f2d1a41098a",
   "metadata": {},
   "outputs": [],
   "source": [
    "from ga import GA\n",
    "\n",
    "ga = GA(genes, su, plotting)"
   ]
  },
  {
   "cell_type": "code",
   "execution_count": null,
   "id": "e6dc1e5a-213d-40b8-b0de-c2176201d0ce",
   "metadata": {},
   "outputs": [],
   "source": [
    "#ga.num_generations = 20\n",
    "for meth, log in [(\"single\", True)]:\n",
    "    for num_genes in [5]:\n",
    "        for rep in range(5):\n",
    "            ga.run_and_save_instance(num_genes, meth, log)"
   ]
  },
  {
   "cell_type": "markdown",
   "id": "8e877723-b8f0-40dd-8dbc-5290518f5609",
   "metadata": {},
   "source": [
    "## ML"
   ]
  },
  {
   "cell_type": "code",
   "execution_count": null,
   "id": "1c1aba0f-f22b-4efb-8645-d15299505903",
   "metadata": {},
   "outputs": [],
   "source": [
    "from ml import ML\n",
    "\n",
    "X = df_genes\n",
    "y = df[\"disease\"]\n",
    "ml = ML(42, X, y, Scoring(df))"
   ]
  },
  {
   "cell_type": "code",
   "execution_count": null,
   "id": "6291a3eb-dfd3-4dde-9d78-2b5ea9861c38",
   "metadata": {},
   "outputs": [],
   "source": [
    "n_rep = 20\n",
    "for n_feat in [5, 10, 20]:\n",
    "    ml.fit_and_save(n_feat, n_rep)    "
   ]
  },
  {
   "cell_type": "markdown",
   "id": "84c5fabe-981c-4bb4-bf6d-252581ae6754",
   "metadata": {
    "tags": []
   },
   "source": [
    "## Collect results"
   ]
  },
  {
   "cell_type": "code",
   "execution_count": null,
   "id": "70686e71-9961-480e-a3ea-c359e9c48b90",
   "metadata": {},
   "outputs": [],
   "source": [
    "import load\n",
    "\n",
    "results = load.Results(su)\n",
    "#%%time\n",
    "# for n in [5, 10, 20]:\n",
    "#   sols = results.collect_and_save(n, linkage_map.keys())\n",
    "_\n",
    "# for n in [5, 10, 20]:\n",
    "#   sols = results.collect_and_save(n, [\"rf\"])"
   ]
  },
  {
   "cell_type": "code",
   "execution_count": null,
   "id": "3b19c378-0665-405b-8198-623db54cafef",
   "metadata": {},
   "outputs": [],
   "source": [
    "%%time\n",
    "\n",
    "from scoring import linkage_map_log\n",
    "for n in [2,3,4,5,6,7,8,9,10,20]:\n",
    "    sols = results.collect_and_save(n, linkage_map_log.keys())"
   ]
  },
  {
   "cell_type": "code",
   "execution_count": null,
   "id": "c758186f-b9a1-4cd5-a501-d5ce75fe55bf",
   "metadata": {},
   "outputs": [],
   "source": [
    "%%time\n",
    "\n",
    "from scoring import linkage_map_log\n",
    "for n in [5]:\n",
    "    sols = results.collect_and_save(n, linkage_map_log.keys())"
   ]
  },
  {
   "cell_type": "code",
   "execution_count": null,
   "id": "c6e1b7c7-486e-4d79-baea-5390f42de2e0",
   "metadata": {},
   "outputs": [],
   "source": [
    "sols"
   ]
  },
  {
   "cell_type": "code",
   "execution_count": null,
   "id": "da72bdd3-55f4-46f9-8152-a23951d7ae60",
   "metadata": {},
   "outputs": [],
   "source": [
    "%%time\n",
    "\n",
    "from scoring import linkage_map_log\n",
    "for n in [10]:\n",
    "    sols = results.collect_and_save(n, linkage_map_log.keys())\n",
    "sols"
   ]
  },
  {
   "cell_type": "markdown",
   "id": "31af7273-b34d-4d39-8ab4-e456c7f4b963",
   "metadata": {},
   "source": [
    "## Load collected results"
   ]
  },
  {
   "cell_type": "code",
   "execution_count": null,
   "id": "cedb23b5-ba5a-4cb5-9249-29ce4ae3de51",
   "metadata": {},
   "outputs": [],
   "source": [
    "dfs = load.load_solutions([2, 3, 4, 5, 6, 7, 8, 9, 10, 20])\n",
    "dfs[0].head()"
   ]
  },
  {
   "cell_type": "code",
   "execution_count": null,
   "id": "b2431c46-6378-4ec2-9d74-1b221c66ec1f",
   "metadata": {},
   "outputs": [],
   "source": [
    "dfs = load.load_solutions([5, 10])\n",
    "a = dfs[0]  # .sort_values(\"quantile\", ascending=False)\n",
    "a"
   ]
  },
  {
   "cell_type": "code",
   "execution_count": null,
   "id": "b5ecabe1-a6da-44eb-8642-9650336a7bfb",
   "metadata": {},
   "outputs": [],
   "source": [
    "plotting.boxplot(a.iloc[0, :5], log=True)"
   ]
  },
  {
   "cell_type": "code",
   "execution_count": null,
   "id": "f54e1c34-8912-4a7d-8803-496318b30489",
   "metadata": {},
   "outputs": [],
   "source": [
    "dfs[0].approach.unique()"
   ]
  },
  {
   "cell_type": "code",
   "execution_count": null,
   "id": "54c09f0b-fe34-4a41-8fd5-806bd4f374ae",
   "metadata": {},
   "outputs": [],
   "source": [
    "import pandas as pd\n",
    "\n",
    "\n",
    "def x_best(idx, n):\n",
    "    sols = dfs[idx].iloc[:, :n]\n",
    "    sel = (\n",
    "        dfs[idx]\n",
    "        .loc[\n",
    "            sols.apply(lambda x: su.score(x, \"single_log\", True), axis=1)\n",
    "            .nlargest(10)\n",
    "            .index\n",
    "        ]\n",
    "        .iloc[:, :n]\n",
    "    )\n",
    "    sel = pd.concat(\n",
    "        [\n",
    "            sel,\n",
    "            sel.apply(lambda x: su.score(x), axis=1),\n",
    "            sel.apply(lambda x: su.score(x, log=True), axis=1),\n",
    "        ],\n",
    "        axis=1,\n",
    "    ).join(dfs[0].run_id)\n",
    "    return sel\n",
    "\n",
    "\n",
    "def best(idx, n):\n",
    "    b = x_best(idx, n).iloc[0, :n]\n",
    "    return b\n",
    "\n",
    "\n",
    "def best_score(idx, n):\n",
    "    b = x_best(idx, n).iloc[0][\"single_log\"]\n",
    "    return b"
   ]
  },
  {
   "cell_type": "code",
   "execution_count": null,
   "id": "bddb4da0-2234-4af3-8062-8ba2677e9adb",
   "metadata": {},
   "outputs": [],
   "source": [
    "best_score(1, 2)"
   ]
  },
  {
   "cell_type": "code",
   "execution_count": null,
   "id": "dee5c59d-d213-446f-8b1e-721e57503702",
   "metadata": {},
   "outputs": [],
   "source": [
    "plotting.boxplot(best(8, 9))"
   ]
  },
  {
   "cell_type": "code",
   "execution_count": null,
   "id": "d89e4864-7ef0-4e61-b694-26ef74996d7c",
   "metadata": {},
   "outputs": [],
   "source": [
    "scores = [best_score(idx, idx + 1) for idx in range(10)]\n",
    "scores"
   ]
  },
  {
   "cell_type": "code",
   "execution_count": null,
   "id": "b420bfae-cf96-4b9a-ab1d-f3ac64e5b8a2",
   "metadata": {},
   "outputs": [],
   "source": [
    "import matplotlib.pyplot as plt\n",
    "\n",
    "plt.xticks(range(1, 11))\n",
    "plt.grid(True)\n",
    "plt.xlabel(\"Solution size\")\n",
    "plt.plot(range(1, 11), scores)"
   ]
  },
  {
   "cell_type": "code",
   "execution_count": null,
   "id": "bd89c4cf-b53e-46c1-be80-75b62016e29f",
   "metadata": {},
   "outputs": [],
   "source": [
    "import pandas as pd\n",
    "\n",
    "s = Scoring(df_unscaled, \"neuroblastoma\")\n",
    "pd.concat(\n",
    "    [\n",
    "        sel1,\n",
    "        sel1.apply(lambda x: s.score(x), axis=1),\n",
    "        sel1.apply(lambda x: s.score(x, log=True), axis=1),\n",
    "    ],\n",
    "    axis=1,\n",
    ").join(dfs[0].run_id)\n",
    "pd.concat(\n",
    "    [\n",
    "        sel2,\n",
    "        sel2.apply(lambda x: s.score(x), axis=1),\n",
    "        sel2.apply(lambda x: s.score(x, log=True), axis=1),\n",
    "    ],\n",
    "    axis=1,\n",
    ")"
   ]
  },
  {
   "cell_type": "code",
   "execution_count": null,
   "id": "e4a1b9f0-501b-42d3-8f1c-5e334adbe192",
   "metadata": {},
   "outputs": [],
   "source": [
    "plotting.boxplot(sel1.iloc[0])"
   ]
  },
  {
   "cell_type": "code",
   "execution_count": null,
   "id": "481c5d53-6ff9-4985-ae99-c5695f506efa",
   "metadata": {},
   "outputs": [],
   "source": [
    "d = df_unscaled[[\"tissue\"] + list(best(4, 5))].loc[\n",
    "    df_unscaled.tissue == \"Nerve - Tibial\"\n",
    "]\n",
    "d = d.melt(id_vars=\"tissue\")\n",
    "d"
   ]
  },
  {
   "cell_type": "code",
   "execution_count": null,
   "id": "cb3d52f3-0e66-48ab-9c79-925d84464aa4",
   "metadata": {},
   "outputs": [],
   "source": [
    "d[d.variable == \"KCNQ2\"]"
   ]
  },
  {
   "cell_type": "code",
   "execution_count": null,
   "id": "b09f717d-9f4d-46c0-bdbd-208fcfe5c95f",
   "metadata": {},
   "outputs": [],
   "source": [
    "import seaborn as sns\n",
    "\n",
    "plt.figure(figsize=(5, 7))\n",
    "sns.boxplot(data=d, x=\"variable\", y=\"value\")"
   ]
  },
  {
   "cell_type": "code",
   "execution_count": null,
   "id": "57fcef12-095c-4d06-a90e-a3e8751a94b5",
   "metadata": {},
   "outputs": [],
   "source": [
    "sel = [\"CHRNA7\", \"CLN3\", \"DCC\", \"SLC24A1\", \"VEZT\"]\n",
    "sel2 = [\"CD99\", \"KCNQ2\", \"SMPD4\", \"VEZT\"]"
   ]
  },
  {
   "cell_type": "code",
   "execution_count": null,
   "id": "7fccd787-c721-4f24-89a8-6aa219f8959c",
   "metadata": {},
   "outputs": [],
   "source": [
    "s = Scoring(df_un"
   ]
  },
  {
   "cell_type": "code",
   "execution_count": null,
   "id": "15b98630-dec6-4c22-b710-d8e68da6787c",
   "metadata": {},
   "outputs": [],
   "source": [
    "sel = dfs[0].iloc[0, :5].values\n",
    "Scoring(df_unscaled).score(sel, log=True)\n",
    "plotting.boxplot(sel)"
   ]
  },
  {
   "cell_type": "code",
   "execution_count": null,
   "id": "9b5fb72b-2445-45ab-bfa2-0202b1ca0be8",
   "metadata": {},
   "outputs": [],
   "source": [
    "import numpy as np\n",
    "\n",
    "# ld = df_unscaled.copy()\n",
    "# ld.iloc[:, 3:] = np.log2(ld.iloc[:, 3:])\n",
    "sel\n",
    "\n",
    "Scoring(ld).score(sel[0:5], log=False).single,\n",
    "Scoring(ld).score(sel, log=False).single\n",
    "# Plotting(ld, Scoring(ld)).boxplot(sel)"
   ]
  },
  {
   "cell_type": "code",
   "execution_count": null,
   "id": "51ec2182-4968-40ad-9cae-b22617a45c6b",
   "metadata": {},
   "outputs": [],
   "source": [
    "plotting = Plotting(df, Scoring(df))\n",
    "plotting.boxplot(df_genes.columns)"
   ]
  },
  {
   "cell_type": "markdown",
   "id": "9ec4160e-b328-49c9-84ee-34e1e6f0a456",
   "metadata": {
    "jp-MarkdownHeadingCollapsed": true,
    "tags": []
   },
   "source": [
    "## Experimental"
   ]
  },
  {
   "cell_type": "code",
   "execution_count": null,
   "id": "187f8963-c308-4089-a65f-40605a701f1d",
   "metadata": {},
   "outputs": [],
   "source": [
    "import matplotlib.pyplot as plt\n",
    "import seaborn as sns\n",
    "\n",
    "sel = dfs[1].iloc[0, :5].values\n",
    "data = df[[\"tissue\"] + list(sel)]\n",
    "data = data.melt(id_vars=\"tissue\")\n",
    "# data\n",
    "\n",
    "plt.figure(dpi=120, figsize=(40, 5))\n",
    "\n",
    "plot = sns.violinplot(\n",
    "    data=data,\n",
    "    hue=\"variable\",\n",
    "    x=\"tissue\",\n",
    "    y=\"value\",\n",
    "    linewidth=1,\n",
    "    flierprops=dict(markersize=1),\n",
    "    dodge=False,\n",
    "    inner=\"point\",\n",
    ")\n",
    "\n"
   ]
  },
  {
   "cell_type": "code",
   "execution_count": null,
   "id": "3d460207-a73d-4068-98e9-45bb92657572",
   "metadata": {},
   "outputs": [],
   "source": [
    "%%time\n",
    "sns.catplot(\n",
    "    y=\"value\",\n",
    "    x=\"variable\",\n",
    "    col=\"tissue\",\n",
    "    col_wrap=8,\n",
    "    data=data,\n",
    "    kind=\"violin\",\n",
    "    bw=.1,\n",
    "    cut=0\n",
    ")"
   ]
  },
  {
   "cell_type": "code",
   "execution_count": null,
   "id": "d1ffe73d-d4a4-4836-8ac1-b0d116a05134",
   "metadata": {},
   "outputs": [],
   "source": [
    "plot = sns.violinplot(\n",
    "    data=data[data.tissue == \"Nerve\"],\n",
    "    x=\"variable\",\n",
    "    y=\"value\",\n",
    "    linewidth=1,\n",
    "    flierprops=dict(markersize=1),\n",
    "    dodge=False,\n",
    "    inner=\"point\",\n",
    ")"
   ]
  },
  {
   "cell_type": "code",
   "execution_count": null,
   "id": "78c89456-d71a-400a-abd8-efe939cc2974",
   "metadata": {},
   "outputs": [],
   "source": [
    "best_sols = []\n",
    "for d, n in zip(dfs, [5, 10, 20]):\n",
    "    s = clean_and_eval([d.head(10)], n)\n",
    "    best_sols.append(s)\n",
    "    s.to_csv(f\"top10_size{n}.csv\")\n",
    "    s.head(5)[\"single\"]"
   ]
  },
  {
   "cell_type": "code",
   "execution_count": null,
   "id": "268f8647-5229-4f55-9eb6-4e1e623f11ed",
   "metadata": {},
   "outputs": [],
   "source": [
    "best_sols[0]"
   ]
  },
  {
   "cell_type": "code",
   "execution_count": null,
   "id": "4e752ea1-3377-464c-95aa-9149863b30d7",
   "metadata": {},
   "outputs": [],
   "source": [
    "vs = best_sols[0].iloc[0, :5].values\n",
    "scoring.score(vs)\n",
    "df[\"s\"] = df[vs].sum(axis=1)\n",
    "n = df[df.tissue == \"Nerve\"][\"s\"].min()\n",
    "h = df[df.tissue != \"Nerve\"][\"s\"].max()\n",
    "n\n",
    "h\n",
    "import math\n",
    "\n",
    "n / h\n",
    "math.log(n, 2) - math.log(h, 2)"
   ]
  },
  {
   "cell_type": "code",
   "execution_count": null,
   "id": "43a5eecf-1d0e-4f9a-9ce7-a0b2d70bd908",
   "metadata": {},
   "outputs": [],
   "source": [
    "plotting.boxplot(best_sols[0].iloc[5, :5].values)"
   ]
  },
  {
   "cell_type": "code",
   "execution_count": null,
   "id": "28c81a83-bcfe-4529-a62c-c3935d4ca8ba",
   "metadata": {},
   "outputs": [],
   "source": [
    "s = df[list(best_sols[0].iloc[0, :5].values)].sum(axis=1)\n",
    "s = pd.concat([df[\"tissue\"], s], axis=1)\n",
    "s[s.tissue == \"Nerve\"].min()\n",
    "s[s.tissue != \"Nerve\"].max()\n",
    "\n",
    "s[s.tissue == \"Nerve\"].min().values[1] / s[s.tissue != \"Nerve\"].max().values[1]"
   ]
  }
 ],
 "metadata": {
  "kernelspec": {
   "display_name": "Python 3 (ipykernel)",
   "language": "python",
   "name": "python3"
  },
  "language_info": {
   "codemirror_mode": {
    "name": "ipython",
    "version": 3
   },
   "file_extension": ".py",
   "mimetype": "text/x-python",
   "name": "python",
   "nbconvert_exporter": "python",
   "pygments_lexer": "ipython3",
   "version": "3.9.0"
  }
 },
 "nbformat": 4,
 "nbformat_minor": 5
}
