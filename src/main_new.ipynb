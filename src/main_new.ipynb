{
 "cells": [
  {
   "cell_type": "code",
   "execution_count": null,
   "id": "89eff8a9-b294-4951-9df9-811f5e7629c0",
   "metadata": {},
   "outputs": [],
   "source": [
    "!pip install tqdm"
   ]
  },
  {
   "cell_type": "code",
   "execution_count": null,
   "id": "46056c7d-328a-425d-a906-8bc8f1ad7a5a",
   "metadata": {},
   "outputs": [],
   "source": [
    "%load_ext lab_black\n",
    "%load_ext autoreload\n",
    "%autoreload 2"
   ]
  },
  {
   "cell_type": "code",
   "execution_count": null,
   "id": "dfc4d02d-b1b2-4970-82e6-d4e7a760730f",
   "metadata": {},
   "outputs": [],
   "source": [
    "import pandas as pd\n",
    "import io_utils\n",
    "import pygad\n",
    "import os\n",
    "from tqdm import tqdm\n",
    "import numpy as np\n",
    "import sys"
   ]
  },
  {
   "cell_type": "code",
   "execution_count": null,
   "id": "048fabf6-ed7d-427c-8784-45ef9df0d29a",
   "metadata": {},
   "outputs": [],
   "source": [
    "data_dir = \"../data/\""
   ]
  },
  {
   "cell_type": "code",
   "execution_count": null,
   "id": "fa4abb7d-a254-4282-a50e-13bbed8d5474",
   "metadata": {},
   "outputs": [],
   "source": [
    "%%time\n",
    "\n",
    "df = pd.read_csv(data_dir + \"data_unscaled.csv\")\n",
    "df\n",
    "display(df.head())\n",
    "\n",
    "df_genes = df.iloc[:, 3:-1]\n",
    "display(df_genes.head())"
   ]
  },
  {
   "cell_type": "code",
   "execution_count": null,
   "id": "7421a8dc-9169-4ef1-89ed-d5e59b213288",
   "metadata": {},
   "outputs": [],
   "source": [
    "eps = sys.float_info.epsilon\n",
    "df.iloc[:, 3:-1] = df.iloc[:, 3:-1] + eps\n",
    "df"
   ]
  },
  {
   "cell_type": "code",
   "execution_count": null,
   "id": "99a11422-5e46-41c5-9a3a-1d94a4021600",
   "metadata": {},
   "outputs": [],
   "source": [
    "from scoring import Scoring\n",
    "from plotting import Plotting\n",
    "\n",
    "S = Scoring(df)\n",
    "P = Plotting(df, S)"
   ]
  },
  {
   "cell_type": "markdown",
   "id": "284419bb-0224-4468-b31d-df38de919011",
   "metadata": {},
   "source": [
    "## GA"
   ]
  },
  {
   "cell_type": "code",
   "execution_count": null,
   "id": "7e72d44d-96c3-435a-96b3-ee518f809704",
   "metadata": {},
   "outputs": [],
   "source": [
    "GENES = np.array(df_genes.columns)"
   ]
  },
  {
   "cell_type": "code",
   "execution_count": null,
   "id": "0e843714-4525-47ca-b7ad-ab71657e6cf7",
   "metadata": {},
   "outputs": [],
   "source": [
    "def _fitness_func(solution: [int], idx, key: str, log: bool):\n",
    "    selected_genes = GENES[solution]\n",
    "    return S.score(selected_genes, log, key)"
   ]
  },
  {
   "cell_type": "code",
   "execution_count": null,
   "id": "71d12bc0-6f9a-4def-9f05-589ed6dd9c52",
   "metadata": {},
   "outputs": [],
   "source": [
    "def _initial_population(num_genes: int, init_pop_weights):\n",
    "    sols = []\n",
    "    for _ in range(sol_per_pop):\n",
    "        sel = list(init_pop_weights.sample(num_genes, weights=init_pop_weights).index)\n",
    "        enc = np.isin(genes, sel).nonzero()[0]\n",
    "        sols.append(enc)\n",
    "    return sols\n",
    "\n",
    "\n",
    "def _on_generation(instance, meth, log, run_dir, pbar):\n",
    "    pbar.update(1)\n",
    "    if instance.generations_completed % 100 == 0:\n",
    "        _save_results(instance, meth, log, run_dir)\n",
    "\n",
    "\n",
    "def _save_best_sols(instance, run_dir):\n",
    "    best_sols = instance.best_solutions\n",
    "    if len(best_sols) == 0:\n",
    "        return\n",
    "    sols = pd.DataFrame(best_sols).apply(lambda x: GENES[x])\n",
    "    sols = pd.concat([sols, sols.apply(lambda x: S.score(x, log=log), axis=1)], axis=1)\n",
    "    instance.best_solutions = []\n",
    "\n",
    "    path = os.path.join(run_dir, \"best_sols.csv\")\n",
    "    if os.path.exists(path):\n",
    "        sols.to_csv(path, index=False, mode=\"a\", header=False)\n",
    "    else:\n",
    "        sols.to_csv(path, index=False)\n",
    "\n",
    "\n",
    "def _save_results(instance, meth: str, log: bool, run_dir: str):\n",
    "    _save_best_sols(instance, run_dir)\n",
    "    instance.plot_fitness().savefig(\n",
    "        os.path.join(run_dir, \"fit_vs_gen.svg\"), format=\"svg\"\n",
    "    )\n",
    "\n",
    "    solution, solution_fitness, solution_idx = instance.best_solution()\n",
    "    path = os.path.join(run_dir, f\"best_sol_{instance.generations_completed}.svg\")\n",
    "    P.boxplot(GENES[solution], log, path)\n",
    "\n",
    "    np.save(os.path.join(run_dir, \"last_pop\"), instance.population)"
   ]
  },
  {
   "cell_type": "code",
   "execution_count": null,
   "id": "c74c4cee-5919-4566-9e88-782f2ff10226",
   "metadata": {},
   "outputs": [],
   "source": [
    "num_generations = 20000\n",
    "num_parents_mating = 50\n",
    "# initial_population\n",
    "sol_per_pop = 500  # inactive if initial_population\n",
    "gene_type = int\n",
    "\n",
    "parent_selection_type = \"sss\"\n",
    "keep_parents = -1\n",
    "crossover_type = \"scattered\"\n",
    "random_mutation_min_val = 0\n",
    "mutation_type = \"adaptive\"\n",
    "mutation_probability = (0.15, 0.08)\n",
    "gene_space = range(0, len(GENES))\n",
    "stop_criteria = [\"saturate_300\"]\n",
    "init_pop_weights = None"
   ]
  },
  {
   "cell_type": "code",
   "execution_count": null,
   "id": "282387ac-1b28-41b5-8ea0-e55e53f638e2",
   "metadata": {},
   "outputs": [],
   "source": [
    "def run_and_save_instance(num_genes: int, meth: str, log: bool):\n",
    "    fitness_func = lambda x, y: _fitness_func(x, y, meth, log)\n",
    "    run_dir = io_utils.create_run_dir(meth, num_genes)\n",
    "\n",
    "    with tqdm(total=num_generations) as pbar:\n",
    "        instance = pygad.GA(\n",
    "            num_generations=num_generations,\n",
    "            num_parents_mating=num_parents_mating,\n",
    "            fitness_func=fitness_func,\n",
    "            sol_per_pop=sol_per_pop,\n",
    "            num_genes=num_genes,\n",
    "            parent_selection_type=parent_selection_type,\n",
    "            keep_parents=keep_parents,\n",
    "            mutation_type=mutation_type,\n",
    "            mutation_probability=mutation_probability,\n",
    "            gene_space=gene_space,\n",
    "            gene_type=int,\n",
    "            allow_duplicate_genes=False,\n",
    "            on_generation=lambda x: _on_generation(x, meth, log, run_dir, pbar),\n",
    "            save_best_solutions=True,\n",
    "            stop_criteria=stop_criteria,\n",
    "            suppress_warnings=True,\n",
    "        )\n",
    "\n",
    "        if init_pop_weights:\n",
    "            instance.initial_population = _initial_population(\n",
    "                num_genes, init_pop_weights\n",
    "            )\n",
    "        instance.run()\n",
    "\n",
    "    _save_results(instance, meth, log, run_dir)"
   ]
  },
  {
   "cell_type": "code",
   "execution_count": null,
   "id": "e6dc1e5a-213d-40b8-b0de-c2176201d0ce",
   "metadata": {},
   "outputs": [],
   "source": [
    "for meth, log in [(\"single\", True)]:\n",
    "    for num_genes in [14, 15, 16, 17, 18, 19, 20]:\n",
    "        for rep in range(5):\n",
    "            run_and_save_instance(num_genes, meth, log)"
   ]
  },
  {
   "cell_type": "markdown",
   "id": "8e877723-b8f0-40dd-8dbc-5290518f5609",
   "metadata": {},
   "source": [
    "## ML"
   ]
  },
  {
   "cell_type": "code",
   "execution_count": null,
   "id": "1c1aba0f-f22b-4efb-8645-d15299505903",
   "metadata": {},
   "outputs": [],
   "source": [
    "from ml import ML\n",
    "\n",
    "X = df_genes\n",
    "y = df[\"disease\"]\n",
    "ml = ML(42, X, y, Scoring(df))"
   ]
  },
  {
   "cell_type": "code",
   "execution_count": null,
   "id": "6291a3eb-dfd3-4dde-9d78-2b5ea9861c38",
   "metadata": {},
   "outputs": [],
   "source": [
    "n_rep = 20\n",
    "for n_feat in [5, 10, 20]:\n",
    "    ml.fit_and_save(n_feat, n_rep)    "
   ]
  },
  {
   "cell_type": "markdown",
   "id": "9ec4160e-b328-49c9-84ee-34e1e6f0a456",
   "metadata": {
    "jp-MarkdownHeadingCollapsed": true,
    "tags": []
   },
   "source": [
    "## Experimental"
   ]
  },
  {
   "cell_type": "code",
   "execution_count": null,
   "id": "187f8963-c308-4089-a65f-40605a701f1d",
   "metadata": {},
   "outputs": [],
   "source": [
    "import matplotlib.pyplot as plt\n",
    "import seaborn as sns\n",
    "\n",
    "sel = dfs[1].iloc[0, :5].values\n",
    "data = df[[\"tissue\"] + list(sel)]\n",
    "data = data.melt(id_vars=\"tissue\")\n",
    "# data\n",
    "\n",
    "plt.figure(dpi=120, figsize=(40, 5))\n",
    "\n",
    "plot = sns.violinplot(\n",
    "    data=data,\n",
    "    hue=\"variable\",\n",
    "    x=\"tissue\",\n",
    "    y=\"value\",\n",
    "    linewidth=1,\n",
    "    flierprops=dict(markersize=1),\n",
    "    dodge=False,\n",
    "    inner=\"point\",\n",
    ")\n",
    "\n"
   ]
  },
  {
   "cell_type": "code",
   "execution_count": null,
   "id": "3d460207-a73d-4068-98e9-45bb92657572",
   "metadata": {},
   "outputs": [],
   "source": [
    "%%time\n",
    "sns.catplot(\n",
    "    y=\"value\",\n",
    "    x=\"variable\",\n",
    "    col=\"tissue\",\n",
    "    col_wrap=8,\n",
    "    data=data,\n",
    "    kind=\"violin\",\n",
    "    bw=.1,\n",
    "    cut=0\n",
    ")"
   ]
  },
  {
   "cell_type": "code",
   "execution_count": null,
   "id": "d1ffe73d-d4a4-4836-8ac1-b0d116a05134",
   "metadata": {},
   "outputs": [],
   "source": [
    "plot = sns.violinplot(\n",
    "    data=data[data.tissue == \"Nerve\"],\n",
    "    x=\"variable\",\n",
    "    y=\"value\",\n",
    "    linewidth=1,\n",
    "    flierprops=dict(markersize=1),\n",
    "    dodge=False,\n",
    "    inner=\"point\",\n",
    ")"
   ]
  },
  {
   "cell_type": "code",
   "execution_count": null,
   "id": "78c89456-d71a-400a-abd8-efe939cc2974",
   "metadata": {},
   "outputs": [],
   "source": [
    "best_sols = []\n",
    "for d, n in zip(dfs, [5, 10, 20]):\n",
    "    s = clean_and_eval([d.head(10)], n)\n",
    "    best_sols.append(s)\n",
    "    s.to_csv(f\"top10_size{n}.csv\")\n",
    "    s.head(5)[\"single\"]"
   ]
  },
  {
   "cell_type": "code",
   "execution_count": null,
   "id": "268f8647-5229-4f55-9eb6-4e1e623f11ed",
   "metadata": {},
   "outputs": [],
   "source": [
    "best_sols[0]"
   ]
  },
  {
   "cell_type": "code",
   "execution_count": null,
   "id": "4e752ea1-3377-464c-95aa-9149863b30d7",
   "metadata": {},
   "outputs": [],
   "source": [
    "vs = best_sols[0].iloc[0, :5].values\n",
    "scoring.score(vs)\n",
    "df[\"s\"] = df[vs].sum(axis=1)\n",
    "n = df[df.tissue == \"Nerve\"][\"s\"].min()\n",
    "h = df[df.tissue != \"Nerve\"][\"s\"].max()\n",
    "n\n",
    "h\n",
    "import math\n",
    "\n",
    "n / h\n",
    "math.log(n, 2) - math.log(h, 2)"
   ]
  },
  {
   "cell_type": "code",
   "execution_count": null,
   "id": "43a5eecf-1d0e-4f9a-9ce7-a0b2d70bd908",
   "metadata": {},
   "outputs": [],
   "source": [
    "plotting.boxplot(best_sols[0].iloc[5, :5].values)"
   ]
  },
  {
   "cell_type": "code",
   "execution_count": null,
   "id": "28c81a83-bcfe-4529-a62c-c3935d4ca8ba",
   "metadata": {},
   "outputs": [],
   "source": [
    "s = df[list(best_sols[0].iloc[0, :5].values)].sum(axis=1)\n",
    "s = pd.concat([df[\"tissue\"], s], axis=1)\n",
    "s[s.tissue == \"Nerve\"].min()\n",
    "s[s.tissue != \"Nerve\"].max()\n",
    "\n",
    "s[s.tissue == \"Nerve\"].min().values[1] / s[s.tissue != \"Nerve\"].max().values[1]"
   ]
  }
 ],
 "metadata": {
  "kernelspec": {
   "display_name": "Python 3",
   "language": "python",
   "name": "python3"
  },
  "language_info": {
   "codemirror_mode": {
    "name": "ipython",
    "version": 3
   },
   "file_extension": ".py",
   "mimetype": "text/x-python",
   "name": "python",
   "nbconvert_exporter": "python",
   "pygments_lexer": "ipython3",
   "version": "3.6.9"
  },
  "toc-autonumbering": false
 },
 "nbformat": 4,
 "nbformat_minor": 5
}
